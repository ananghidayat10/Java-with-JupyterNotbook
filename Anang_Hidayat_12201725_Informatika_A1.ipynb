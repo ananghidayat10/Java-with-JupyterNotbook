{
  "cells": [
    {
      "cell_type": "code",
      "execution_count": null,
      "metadata": {
        "id": "iikHUtEExLIP"
      },
      "outputs": [],
      "source": [
        ""
      ]
    },
    {
      "cell_type": "markdown",
      "metadata": {
        "id": "bUB6YkbKzq6e"
      },
      "source": [
        "\n",
        "\n",
        "---\n",
        "\n"
      ]
    },
    {
      "cell_type": "markdown",
      "metadata": {
        "id": "7QbClP-5yKVi"
      },
      "source": [
        "### Petunjuk Penting !!\n",
        "\n",
        "####  Lakukan Inisialisasi Java Kompailer untuk Google Colab\n",
        "Notebook ini menggunakan Java di Google Colaboratory sebagai kompailer. Untuk itu lakukan dua langkah dibawah ini sebelum anda bekerja dengan notebook ini\n",
        "\n",
        "1. Jalankan perintah pada cell diabawah ini (klik tombol run atau tekan tombol `Shift`+`Enter` secara bersamaan)"
      ]
    },
    {
      "cell_type": "code",
      "execution_count": null,
      "metadata": {
        "id": "lUr92Wb1yzXm"
      },
      "outputs": [],
      "source": [
        "//init java please..."
      ]
    },
    {
      "cell_type": "markdown",
      "metadata": {
        "id": "05gvKabVzOQD"
      },
      "source": [
        "2. Kemudian refresh halaman notebook (page) (tekan tombol `F5`) atau that. atau tekan tombol refresh/reload. "
      ]
    },
    {
      "cell_type": "markdown",
      "metadata": {
        "id": "fizVCMLKzf8A"
      },
      "source": [
        "---\n"
      ]
    },
    {
      "cell_type": "markdown",
      "metadata": {
        "id": "VD3Bt8LiFs-E"
      },
      "source": [
        "# 11. Pengenalan Konsep Objek Dan Class\n",
        "\n",
        "Pemrograman Berorientasi Objek adalah sebuah paradigma pemrograman yang saat ini masih banyak digunakan.\n",
        "\n",
        "## 11.1 Tujuan\n",
        "Setelah mengikuti meteri ini mahasiswa diharapkan dapat :\n",
        "1. Memahami perbedaan class dan obyek\n",
        "2. Menyajikan pembuatan class\n"
      ]
    },
    {
      "cell_type": "markdown",
      "metadata": {
        "id": "Xk1iUl0icR26"
      },
      "source": [
        "## 11.2 Uraian Materi\n",
        "\n",
        "### 11.2.1 Pemrograman Berorientasi Objek\n",
        "OOP (Object Oriented Programming) atau dalam bahasa indonesia dikenal dengan pemrograman berorientasikan objek (PBO) merupakan sebuah paradigma atau teknik pemrograman yang berorientesikan Objek.\n",
        "\n",
        "\n",
        "### 11.2.2 Alasan Untuk Belajar Java\n",
        "Salah satu alasan untuk belajar Java adalah untuk mempelajari metode *Object Oriented Programming* atau OOP lebih dalam.  *Object Oriented Programming* atau Pemrograman Berorientasi Objek yang disingkat PBO menjadi dasar dalam pemrograman Java.\n",
        "\n",
        "Berikut ini adalah contoh program pertama dengan bahasa pemrograman Java, pada saat kita memprogram aplikasi sederhanapun kita diwajibkan menggunakan class.\n",
        "``` javascript\n",
        "class HelloWord {\n",
        "    public static void main(String[] args){\n",
        "        System.out.println(\"Hello World!\");\n",
        "    }\n",
        "}\n",
        "```\n",
        "\n",
        "### 11.2.3 Pemrograman OOP VS Pemrograman Prosedural\n",
        "Pada masa sebelumnya sudah diperkenalkan metode Pemrograman Prosedural/Terstuktur.\n",
        "\n",
        "Pada pemrograman prosedural, kita biasanya memecah program menjadi beberapa prosedur/modul/fungsi.\n",
        "Kemudian membuat variabel global dan lokal untuk menyimpan data.\n",
        "\n",
        "![Pemrograman Prosedural](https://github.com/rahmadsa/Pemrograman-Java/blob/main/images/ProceduralProgramming.jpg?raw=true)\n",
        "\n",
        "\n",
        "Tapi ketika masalahnya senakin kompleks demikian juga program juga semakin besar dan kompleks dan diikuti Kode sumber dari aplikasi juga semakin kompleks. Hal yang terjadi adalah kode program akan sulit di-maintenance.\n",
        "\n",
        "Pada OOP, Fungsi dan variabel dibungkus dalam sebuah objek atau class yang dapat saling brinteraksi, sehingga membentuk sebuah program.\n",
        "\n",
        "Variable dan Fungsi disatukan dalam satu wadah class, dengan demikian, tidak akan ada lagi kode yang “berantakan” karena Variable dan Fungsi yang terpisah - pisah. Semua akan kita bungkus dalam objek.\n",
        "\n",
        "![Pemrograman Prosedural](https://github.com/rahmadsa/Pemrograman-Java/blob/main/images/OOPvsProcedural.jpg?raw=true)\n",
        "\n",
        "\n",
        "\t"
      ]
    },
    {
      "cell_type": "markdown",
      "source": [
        "### 11.2.4 Perbedaan Class dan Obyek\n",
        "Tapi sebelum membuat objek, kita harus membuat class dulu\n",
        "Pada dunia perangkat lunak, sebuah obyek adalah sebuah komponen\n",
        "perangkat lunak yang stukturnya mirip dengan objek pada dunia nyata.\n",
        "\n",
        "Setiap objek dibangun dari sekumpulan data (*attribute*) yang disebut *variable*\n",
        "untuk menjabarkan karakteristik khusus dari objek tersebut. \n",
        "\n",
        "Selain **atribut** subuah objek juga terdiri dari sekumpulan method atau fungsi yang menjabarkan tingkah laku dari obyek. \n",
        "\n",
        "Bisa dikatakan bahwa obyek adalah sebuah perangkat lunak yang berisi\n",
        "sekumpulan variable dan method yang saling berhubungan. Variabel dan method\n",
        "dalam objek Java secara formal diketahui sebagai variabel instance dan\n",
        "method instance. Hal ini dilakukan untuk membedakan dari variable class dan method class, dimana akan dibahas kemudian.\n",
        "\n",
        "*Class* adalah struktur dasar dari OOP. Class terdiri dari dua tipe kompunen utama disebut yaitu field (*attribut/property*) dan method(fungsi). \n",
        "\n",
        "1. Field (*attribut/property*) merupakan tipe data yang didefinisikan oleh class\n",
        "2. Fungsi (*Method*) merupakan operasi darisuatu algoritma komputer. \n",
        "\n",
        "> Sebuah obyek adalah sebuah instance atau implementasi dari suatu *class*.\n",
        "\n",
        "Untuk dapat membedakan antara class dan obyek, mari kita lihat beberapa contoh berikut ini. Sebagai contoh kita memiliki sebuah **class mobil** dimana dapat digunakan untuk medefinisikan beberapa obyek mobil. \n",
        "\n",
        "Pada gambar dibawah, terdapat tiga buah objek yaitu **Sedan_1**, **Bis_1** dan **Truk_X**. Ketiga objek tersebut adalah obyek dari class mobil. \n",
        "\n",
        "Class Mobil memiliki field / atribut nomor, plat, warna, manufaktur dan kecepatan yang beriisi dengan nilai dari ciri objek masing- masing.\n",
        "\n",
        "![Objek dan Class](https://raw.githubusercontent.com/rahmadsa/Pemrograman-Java/c6024e43c10b43130b766a91fab01a8ef68f0110/images/class-objek.jpg)\n",
        "\n",
        "Dengan class, kita bisa menentukan variabel dan prosedur apa saja untuk kucing dan makanan.\n",
        "\n",
        "Class ini nanti yang akan kita pakai untuk membuat objek.\n",
        "\n",
        "\n",
        "> **Class** adalah rancangan atau blue print dari sebuah objek.\n",
        "\n",
        "> Sedangkan **Objek** adalah sebuah variabel yang merupakan instance atau perwujudan dari Class.\n",
        "\n",
        "Instance bisa diartikan sebagai wujud dari class.\n",
        "\n",
        "Class berisi definisi variabel dan fungsi yang menggambarkan sebuah objek.\n",
        "\n",
        "> Dalam OOP **Variabel** disebut **atribut** atau **properti**\n",
        "    \n",
        "> Sedangkan **Fungsi** disebut **method**.\n",
        "\n",
        "Syntak dan Struktur Class\n",
        "\n",
        "``` javascript\n",
        "class NamaClass {\n",
        "    TypeData atribut1;\n",
        "    TypeData atribut2;\n",
        "\n",
        "    [TypeDataKembalian] namaMethod(){\n",
        "    // statemen atau kode fungsi\n",
        "    }\n",
        "    [TypeDataKembalian] namaMethodLain(){ ... }\n",
        "}\n",
        "```\n",
        "Lalu, Kita biasanya membuat objek (instance) seperti ini:\n",
        "\n",
        "``` javascript\n",
        "NamaClass namaObj = new NamaClass();\n",
        "```\n",
        "\n",
        "Kata kunci new berfungsi untuk membuat objek baru dari class tertentu.\n",
        "\n",
        "Setelah membuat objek, kita bisa mengakses atribut dan method dari objek tersebut.\n",
        "\n",
        "Contoh:\n",
        "``` javascript\n",
        "namaObj.namaMethod();\n",
        "namaObj.atribut1;\n",
        "```\n",
        "\n",
        "Tanda titik (.) berfungsi untuk mengakses atribut dan method."
      ],
      "metadata": {
        "id": "W4TZArPm1f_y"
      }
    },
    {
      "cell_type": "markdown",
      "metadata": {
        "id": "TwESgV2CN9o4"
      },
      "source": [
        "##11.2 Tugas\n",
        "\n",
        "### 11.2.1 Tugas 1\n",
        "Mainkan dan amatilah game online pada situs berikut ini [Evowars](https://id.y8.com/games/evowars_io)\n",
        "\n",
        "Definikan objek - objek apa saja dalam game tersebut:\n",
        "\n",
        "\n"
      ]
    },
    {
      "cell_type": "markdown",
      "source": [
        "*Jawaban Tugas 11.2.1 :*\n",
        "Objek pada gama MAD WARIOR\n",
        "1. HERO\n",
        "2. SENJATA\n",
        "3. DIAMOND BIRU\n",
        "4. DIAMOND KUNING\n",
        "5. DIAMOND MERAH"
      ],
      "metadata": {
        "id": "YU2kALDjj12V"
      }
    },
    {
      "cell_type": "markdown",
      "source": [
        "\n",
        "### 11.2.2 Tugas 2\n",
        "\n",
        "Denisikan class - class saja berikut kompunen (atribut dan method) apa saja yang bisa anda buat dari tugas **11.2.1 Tugas 1** dengan format sebagai satu\n",
        "\n",
        "class [nama class]|\n",
        "-------------------|\n",
        "*atribut:*         |\n",
        "attribut 1         | \n",
        "attribut 2         |\n",
        "attribut [n]       |\n",
        "-------------------|\n",
        "*atribut:*         |\n",
        "methode1()         | \n",
        "methode2()         |\n",
        "..........         |\n",
        "-------------------|"
      ],
      "metadata": {
        "id": "pXRZkj5zkoQt"
      }
    },
    {
      "cell_type": "markdown",
      "source": [
        "*Jawaban Tugas 11.2.2 :*\n",
        "\n",
        "\n",
        "1. Objek Hero\n",
        "\n",
        "class [Hero]|\n",
        "-------------------|\n",
        "*atribut:*         |\n",
        "Kecepatan          | \n",
        "Warna              |\n",
        "Jenis              |\n",
        "Bentuk             |\n",
        "-------------------|\n",
        "*atribut:*         |\n",
        "Jalan()            | \n",
        "Berubah()          |\n",
        "Berhenti()         |\n",
        "Berbelok()         |\n",
        "-------------------|\n",
        "\n",
        "2. Objek Senjata\n",
        "\n",
        "class [Senjata]|\n",
        "-------------------|\n",
        "*atribut:*         |\n",
        "Bentuk             | \n",
        "Kemampuan          |\n",
        "-------------------|\n",
        "*atribut:*         |\n",
        "Bentuk()           | \n",
        "Jenis()            |\n",
        "Panjang()          |\n",
        "Gerak()            |\n",
        "Berubah()          |\n",
        "-------------------|\n",
        "\n",
        "3. Objek Diamond Biru\n",
        "\n",
        "class [Diamond biru]|\n",
        "-------------------|\n",
        "*atribut:*         |\n",
        "Jenis              | \n",
        "Warna              |\n",
        "Poin               |\n",
        "-------------------|\n",
        "*atribut:*         |\n",
        "Diam()             | \n",
        "Muncul()           |\n",
        "Hilang()           |\n",
        "Rendah()           |\n",
        "-------------------|\n",
        "\n",
        "3. Objek Diamond Kuning\n",
        "\n",
        "class [Diamond kuning]|\n",
        "-------------------|\n",
        "*atribut:*         |\n",
        "Jenis              | \n",
        "Warna              |\n",
        "Poin               |\n",
        "-------------------|\n",
        "*atribut:*         |\n",
        "Diam()             | \n",
        "Muncul()           |\n",
        "Hilang()           |\n",
        "Sedang()           |\n",
        "-------------------|\n",
        "\n",
        "3. Objek Diamond Merah\n",
        "\n",
        "class [Diamond merah]|\n",
        "-------------------|\n",
        "*atribut:*         |\n",
        "Jenis              | \n",
        "Warna              |\n",
        "Poin               |\n",
        "-------------------|\n",
        "*atribut:*         |\n",
        "Diam()             | \n",
        "Muncul()           |\n",
        "Hilang()           |\n",
        "Tinggi()           |\n",
        "-------------------|"
      ],
      "metadata": {
        "id": "aaU4424rlo0L"
      }
    },
    {
      "cell_type": "markdown",
      "source": [
        "### 11.2.3 Latihan 3\n",
        "\n",
        "Denisikan objek lain dari class - class yang anda bisa buat (selain yang **11.2.1 Tugas 1** ) berikut kompunen (atribut dan method) dari tugas **11.2.2 Tugas 2** dengan format sebagai satu"
      ],
      "metadata": {
        "id": "JT3LSVQal_op"
      }
    },
    {
      "cell_type": "markdown",
      "source": [
        "*Jawaban Tugas 11.2.3:*\n",
        "\n",
        "1. Objek Batu\n",
        "2. Objek Emas\n",
        "4. Objek Keris\n",
        "\n",
        "3. Objek Batu\n",
        "\n",
        "class [Batu]|\n",
        "-------------------|\n",
        "*atribut:*         |\n",
        "Jenis              | \n",
        "Warna              |\n",
        "Poin               |\n",
        "-------------------|\n",
        "*atribut:*         |\n",
        "Diam()             | \n",
        "Muncul()           |\n",
        "Hilang()           |\n",
        "Mines()            |\n",
        "-------------------|\n",
        "\n",
        "3. Objek Emas\n",
        "\n",
        "class [Emas]|\n",
        "-------------------|\n",
        "*atribut:*         |\n",
        "Jenis              | \n",
        "Warna              |\n",
        "Poin               |\n",
        "-------------------|\n",
        "*atribut:*         |\n",
        "Diam()             | \n",
        "Muncul()           |\n",
        "Hilang()           |\n",
        "Refolusi()         |\n",
        "-------------------|\n",
        "\n",
        "3. Objek Keris\n",
        "\n",
        "class [Keris]|\n",
        "-------------------|\n",
        "*atribut:*         |\n",
        "Jenis              | \n",
        "Warna              |\n",
        "Poin               |\n",
        "-------------------|\n",
        "*atribut:*         |\n",
        "Diam()             | \n",
        "Muncul()           |\n",
        "Hilang()           |\n",
        "Refolusi()         |\n",
        "-------------------|"
      ],
      "metadata": {
        "id": "Abl1z9Qbmrr_"
      }
    },
    {
      "cell_type": "markdown",
      "source": [
        "##11.3 Tugas Project\n",
        "Carilah free game online berbasis html5/javascript yang bisa dimainkan melalui browser. \n",
        "Mainkan dan amatilah game online tersebut.\n",
        "1. Definisikan dan objek - objek dari game yang anda temukan.\n",
        "\n",
        "2. Definisikan class - class dari objek - objek pada point 1 diatas\n",
        "\n"
      ],
      "metadata": {
        "id": "Yn8dtTy2nbPL"
      }
    },
    {
      "cell_type": "markdown",
      "source": [
        "*Jawaban Tugas 11.3:*\n",
        "\n",
        "1. Mad Warrior adalah game aksi pertempuran seru di mana Anda dapat berevolusi dengan mengumpulkan permata dan memukul musuh sampai mati. Fokus mengumpulkan bola saat berada di level rendah dan selalu siap mengayunkan pedang saat musuh datang. Hilangkan musuh sebanyak yang Anda bisa dan bertahan agar tidak terkena senjata yang diarahkan musuh.\n",
        "Objek Objek yang ada pada game tersebut yaitu ada objek hero , senjata, diamond biru, kuning, dan merah. dan setiap diamond memiliki bwnruk berbeda dan warna yang berbeda dengan nilai poin yang berbeda sesuai dengan bentuk dan warna daimond tersebut.\n",
        "\n",
        "2. Class-class yang ada pada setiap objek memberikan kemampuan kepada hero untuk berovolusi menjadi lebih tangguh dan lebih menarik dari hero yang pertama kita gunakan. bukan hanya hero yang berovolusi tetapi dari senjatanyapun berevolusi menjadi senjata yang lebih panjang, lebih besar dan lebih keren dari senjata yang lainnya. dan beberapa class pada game tersebut yaitu class hero, pedang, dan diamond.\n"
      ],
      "metadata": {
        "id": "mwM28r8GorgX"
      }
    }
  ],
  "metadata": {
    "colab": {
      "collapsed_sections": [],
      "name": "Anang Hidayat_12201725_Informatika_A1",
      "provenance": []
    },
    "kernelspec": {
      "display_name": "Java",
      "language": "java",
      "name": "java"
    },
    "language_info": {
      "codemirror_mode": "java",
      "file_extension": ".jshell",
      "mimetype": "text/x-java-source",
      "name": "java",
      "pygments_lexer": "java",
      "version": "17.0.1+12-LTS-39"
    },
    "toc": {
      "base_numbering": 1,
      "nav_menu": {},
      "number_sections": false,
      "sideBar": false,
      "skip_h1_title": false,
      "title_cell": "Table of Contents",
      "title_sidebar": "Contents",
      "toc_cell": false,
      "toc_position": {},
      "toc_section_display": false,
      "toc_window_display": false
    }
  },
  "nbformat": 4,
  "nbformat_minor": 0
}