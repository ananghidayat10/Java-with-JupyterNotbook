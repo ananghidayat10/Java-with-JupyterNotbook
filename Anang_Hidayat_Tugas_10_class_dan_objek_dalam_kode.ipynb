{
  "cells": [
    {
      "cell_type": "code",
      "execution_count": null,
      "metadata": {
        "id": "iikHUtEExLIP"
      },
      "outputs": [],
      "source": [
        ""
      ]
    },
    {
      "cell_type": "markdown",
      "metadata": {
        "id": "bUB6YkbKzq6e"
      },
      "source": [
        "\n",
        "\n",
        "---\n",
        "\n"
      ]
    },
    {
      "cell_type": "markdown",
      "metadata": {
        "id": "7QbClP-5yKVi"
      },
      "source": [
        "### Petunjuk Penting !!\n",
        "\n",
        "####  Lakukan Inisialisasi Java Kompailer untuk Google Colab\n",
        "Notebook ini menggunakan Java di Google Colaboratory sebagai kompailer. Untuk itu lakukan dua langkah dibawah ini sebelum anda bekerja dengan notebook ini\n",
        "\n",
        "1. Jalankan perintah pada cell diabawah ini (klik tombol run atau tekan tombol `Shift`+`Enter` secara bersamaan)"
      ]
    },
    {
      "cell_type": "code",
      "execution_count": null,
      "metadata": {
        "id": "lUr92Wb1yzXm",
        "colab": {
          "base_uri": "https://localhost:8080/"
        },
        "outputId": "568e1931-d812-4a88-aa14-d0fdbc499356"
      },
      "outputs": [
        {
          "output_type": "stream",
          "name": "stdout",
          "text": [
            "Get:1 https://cloud.r-project.org/bin/linux/ubuntu bionic-cran40/ InRelease [3,626 B]\n",
            "Ign:2 https://developer.download.nvidia.com/compute/cuda/repos/ubuntu1804/x86_64  InRelease\n",
            "Ign:3 https://developer.download.nvidia.com/compute/machine-learning/repos/ubuntu1804/x86_64  InRelease\n",
            "Hit:4 https://developer.download.nvidia.com/compute/cuda/repos/ubuntu1804/x86_64  Release\n",
            "Hit:5 https://developer.download.nvidia.com/compute/machine-learning/repos/ubuntu1804/x86_64  Release\n",
            "Get:6 http://security.ubuntu.com/ubuntu bionic-security InRelease [88.7 kB]\n",
            "Get:7 http://ppa.launchpad.net/c2d4u.team/c2d4u4.0+/ubuntu bionic InRelease [15.9 kB]\n",
            "Hit:8 http://archive.ubuntu.com/ubuntu bionic InRelease\n",
            "Get:10 http://archive.ubuntu.com/ubuntu bionic-updates InRelease [88.7 kB]\n",
            "Hit:12 http://ppa.launchpad.net/cran/libgit2/ubuntu bionic InRelease\n",
            "Hit:13 http://archive.ubuntu.com/ubuntu bionic-backports InRelease\n",
            "Get:14 http://ppa.launchpad.net/deadsnakes/ppa/ubuntu bionic InRelease [15.9 kB]\n",
            "Get:15 http://security.ubuntu.com/ubuntu bionic-security/restricted amd64 Packages [691 kB]\n",
            "Get:16 http://archive.ubuntu.com/ubuntu bionic-updates/universe amd64 Packages [2,238 kB]\n",
            "Get:17 http://ppa.launchpad.net/graphics-drivers/ppa/ubuntu bionic InRelease [21.3 kB]\n",
            "Get:18 http://security.ubuntu.com/ubuntu bionic-security/multiverse amd64 Packages [26.8 kB]\n",
            "Get:19 http://ppa.launchpad.net/c2d4u.team/c2d4u4.0+/ubuntu bionic/main Sources [1,822 kB]\n",
            "Get:20 http://archive.ubuntu.com/ubuntu bionic-updates/restricted amd64 Packages [749 kB]\n",
            "Get:21 http://archive.ubuntu.com/ubuntu bionic-updates/multiverse amd64 Packages [34.5 kB]\n",
            "Get:22 http://archive.ubuntu.com/ubuntu bionic-updates/main amd64 Packages [2,927 kB]\n",
            "Get:23 http://ppa.launchpad.net/c2d4u.team/c2d4u4.0+/ubuntu bionic/main amd64 Packages [934 kB]\n",
            "Get:24 http://ppa.launchpad.net/deadsnakes/ppa/ubuntu bionic/main amd64 Packages [45.3 kB]\n",
            "Get:25 http://ppa.launchpad.net/graphics-drivers/ppa/ubuntu bionic/main amd64 Packages [44.7 kB]\n",
            "Fetched 9,746 kB in 9s (1,044 kB/s)\n",
            "Reading package lists...\n",
            "Building dependency tree...\n",
            "Reading state information...\n",
            "59 packages can be upgraded. Run 'apt list --upgradable' to see them.\n",
            "Reading package lists...\n",
            "Building dependency tree...\n",
            "Reading state information...\n",
            "openjdk-11-jdk-headless is already the newest version (11.0.13+8-0ubuntu1~18.04).\n",
            "0 upgraded, 0 newly installed, 0 to remove and 59 not upgraded.\n",
            "  % Total    % Received % Xferd  Average Speed   Time    Time     Time  Current\n",
            "                                 Dload  Upload   Total   Spent    Left  Speed\n",
            "100   654  100   654    0     0   2018      0 --:--:-- --:--:-- --:--:--  2012\n",
            "100 3287k  100 3287k    0     0  3395k      0 --:--:-- --:--:-- --:--:-- 3395k\n",
            "install.py:169: DeprecationWarning: replace is ignored. Installing a kernelspec always replaces an existing installation\n",
            "  replace=args.replace\n",
            "Installed java kernel into \"/usr/share/jupyter/kernels/java\"\n",
            "Available kernels:\n",
            "  ir         /usr/local/share/jupyter/kernels/ir\n",
            "  python2    /usr/local/share/jupyter/kernels/python2\n",
            "  python3    /usr/local/share/jupyter/kernels/python3\n",
            "  java       /usr/share/jupyter/kernels/java\n"
          ]
        }
      ],
      "source": [
        "!apt update -q\n",
        "!apt-get install -q openjdk-11-jdk-headless\n",
        "!curl -L https://github.com/SpencerPark/IJava/releases/download/v1.3.0/ijava-1.3.0.zip -o ijava-kernel.zip\n",
        "!unzip -q ijava-kernel.zip -d ijava-kernel && cd ijava-kernel && python3 install.py --sys-prefix\n",
        "!jupyter kernelspec list"
      ]
    },
    {
      "cell_type": "markdown",
      "metadata": {
        "id": "05gvKabVzOQD"
      },
      "source": [
        "2. Kemudian refresh halaman notebook (page) (tekan tombol `F5`) atau that. atau tekan tombol refresh/reload. "
      ]
    },
    {
      "cell_type": "markdown",
      "metadata": {
        "id": "fizVCMLKzf8A"
      },
      "source": [
        "---\n"
      ]
    },
    {
      "cell_type": "markdown",
      "metadata": {
        "id": "VD3Bt8LiFs-E"
      },
      "source": [
        "# 12. Konsep Objek Dan Class Dalam Pemrograman\n",
        "\n",
        "Penerapan konsep Pemrograman Berorientasi Objek yang dari konsep nyata kedalam kaidah pemrograman.\n",
        "\n",
        "## 12.1 Tujuan\n",
        "Setelah mengikuti meteri ini mahasiswa diharapkan dapat :\n",
        "1. Memahami class dan obyek dalam pemrograman\n",
        "2. Pemrograman pembuatan class\n"
      ]
    },
    {
      "cell_type": "markdown",
      "metadata": {
        "id": "Xk1iUl0icR26"
      },
      "source": [
        "## 12.2 Uraian Materi\n",
        "\n",
        "### 12.2.1 Penerapan Class Dalam Kode\n",
        "\n",
        "**Latihan 1**\n",
        "\n",
        "Tulis dan jalankan kode *Program 12.1 Class Player* Berikut ini kemudian amati hasilnya\n",
        "\n",
        "**Program 12.1 Class Player**\n",
        "```javascript\n",
        "class Player {\n",
        "\n",
        "    // definisi atribut\n",
        "    String name;\n",
        "    int speed;\n",
        "    int BahanBakar;\n",
        "\n",
        "    // definisi method\n",
        "    // definisi method run\n",
        "    void run(){\n",
        "        System.out.println(name +\" class player berjalan...\");\n",
        "        System.out.println(\"Speed: \"+ speed);\n",
        "    }\n",
        "\n",
        "    // definisi method isDead untuk mengecek nilai kesehatan (BahanBakar)\n",
        "    boolean isDead(){\n",
        "        if(BahanBakar <= 0) return true;\n",
        "        return false;\n",
        "    }\n",
        "\n",
        "}\n",
        "\n",
        "Player objRacerSatu = new Player();\n",
        "\n",
        "objRacerSatu.name = \"Pembalap 1\";\n",
        "objRacerSatu.speed = 70;\n",
        "objRacerSatu.BahanBakar = 80;\n",
        "\n",
        "\n",
        "System.out.println(\"Fuel : \"+ objRacerSatu.BahanBakar);\n",
        "System.out.println(\"Speed : \"+ objRacerSatu.speed);\n",
        "\n",
        "objRacerSatu.run();\n",
        "\n",
        "if(objRacerSatu.isDead()){\n",
        "            System.out.println(\"Game Over!\");\n",
        "        }\n",
        "```"
      ]
    },
    {
      "cell_type": "code",
      "source": [
        "class Player {\n",
        "\n",
        "    // definisi atribut\n",
        "    String name;\n",
        "    int speed;\n",
        "    int BahanBakar;\n",
        "\n",
        "    // definisi method\n",
        "    // definisi method run\n",
        "    void run(){\n",
        "        System.out.println(name +\" class player berjalan...\");\n",
        "        System.out.println(\"Speed: \"+ speed);\n",
        "    }\n",
        "\n",
        "    // definisi method isDead untuk mengecek nilai kesehatan (BahanBakar)\n",
        "    boolean isDead(){\n",
        "        if(BahanBakar <= 0) return true;\n",
        "        return false;\n",
        "    }\n",
        "\n",
        "}\n",
        "\n",
        "Player objRacerSatu = new Player();\n",
        "\n",
        "objRacerSatu.name = \"Pembalap 1\";\n",
        "objRacerSatu.speed = 70;\n",
        "objRacerSatu.BahanBakar = 80;\n",
        "\n",
        "\n",
        "System.out.println(\"Fuel : \"+ objRacerSatu.BahanBakar);\n",
        "System.out.println(\"Speed : \"+ objRacerSatu.speed);\n",
        "\n",
        "objRacerSatu.run();\n",
        "\n",
        "if(objRacerSatu.isDead()){\n",
        "            System.out.println(\"Game Over!\");\n",
        "        }"
      ],
      "metadata": {
        "id": "1aZrLApSnb3T",
        "colab": {
          "base_uri": "https://localhost:8080/"
        },
        "outputId": "70f3d1d7-5eb0-4d48-d90e-1ce5fabaffec"
      },
      "execution_count": 5,
      "outputs": [
        {
          "output_type": "stream",
          "name": "stdout",
          "text": [
            "Fuel : 80\n",
            "Speed : 70\n",
            "Pembalap 1 class player berjalan...\n",
            "Speed: 70\n"
          ]
        }
      ]
    },
    {
      "cell_type": "markdown",
      "source": [
        "**Latihan 2**\n",
        "\n",
        "Tuliskan kembali kode *Program 12.2* dengan  mengganti nilai *BahanBakar* menjadi 0.\n",
        "```javascript\n",
        "objRacerSatu.BahanBakar = 0;\n",
        "```\n",
        "Kode lengkapnya adalah sebagai berikut.\n",
        "\n",
        "```javascript\n",
        "objRacerSatu.BahanBakar = 0;\n",
        "\n",
        "System.out.println(\"Bahan Bakar : \"+ objRacerSatu.BahanBakar);\n",
        "System.out.println(\"Speed : \"+ objRacerSatu.speed);\n",
        "\n",
        "objRacerSatu.run();\n",
        "\n",
        "if(objRacerSatu.isDead()){\n",
        "            System.out.println(\"Game Over!\");\n",
        "        }\n",
        "```\n",
        "Implementasi kode *Program 12.2* pada field kode dibawah ini amatilah hasilnya."
      ],
      "metadata": {
        "id": "oK9SxloG0FrT"
      }
    },
    {
      "cell_type": "code",
      "source": [
        "objRacerSatu.BahanBakar = 0;\n",
        "\n",
        "System.out.println(\"Bahan Bakar : \"+ objRacerSatu.BahanBakar);\n",
        "System.out.println(\"Speed : \"+ objRacerSatu.speed);\n",
        "\n",
        "objRacerSatu.run();\n",
        "\n",
        "if(objRacerSatu.isDead()){\n",
        "            System.out.println(\"Game Over!\");\n",
        "        }"
      ],
      "metadata": {
        "id": "hP1gkr3B1qhr",
        "colab": {
          "base_uri": "https://localhost:8080/"
        },
        "outputId": "f57d02e5-d000-428c-a5a6-18848ed1801d"
      },
      "execution_count": 8,
      "outputs": [
        {
          "output_type": "stream",
          "name": "stdout",
          "text": [
            "Bahan Bakar : 0\n",
            "Speed : 70\n",
            "Pembalap 1 class player berjalan...\n",
            "Speed: 70\n",
            "Game Over!\n"
          ]
        }
      ]
    },
    {
      "cell_type": "markdown",
      "source": [
        "## 12.2.2 Penjelasan Program\n",
        "Saat kita membuat sebuah class dengan nama **Player**. Maka Class ini bisa mendefinisikan objek - objek Player dalam Game dengan atribut sebagai berikut:\n",
        "\n",
        "* **name** adalah nama objek;\n",
        "* **speed** adalah kecepatan;\n",
        "* **BahanBakar** adalah nilai bahan bakar dari player.\n",
        "\n",
        "Lalu **class Player** memiliki method sebagai berikut:\n",
        "* **run()** untuk menggerakkan player;\n",
        "* **isDead()** untuk mengecek kondisi kesehatan player. Method ini akan mengembalikan nilai *true* apabila nilai *BahanBakar* lebih kecil atau sama dengan nol (0), sebaliknya akan mengembalikan nilai *false*.\n",
        "\n",
        "Berikutnya kita membuat objek baru dari class Player bernama *objRacerSatu*.\n",
        "\n",
        "```javascript\n",
        "// membuat objek player\n",
        "Player objRacerSatu = new Player();\n",
        "```\n",
        "\n",
        "Kata kunci *new* berfungsi untuk membuat objek baru dari class tertentu.\n",
        "\n",
        "Setelah membuat objek, kita bisa mengakses atribut dan method dari objek tersebut.\n",
        "\n",
        "Contoh:\n",
        "```javascript\n",
        "namaObj.namaMethod();\n",
        "namaObj.atribut1;\n",
        "```\n",
        "Tanda titik (.) berfungsi untuk mengakses atribut dan method. Maka akses objek *objRacerSatu* dapat dilakukan sebagai berikut\n",
        "\n",
        "```javascript\n",
        "// akse objek player\n",
        "objRacerSatu.name = \"Pembalap 1\";\n",
        "objRacerSatu.Speed = 70;\n",
        "objRacerSatu.BahanBakar = 80;\n",
        "\n",
        "objRacerSatu.Run();\n",
        "\n",
        "```\n",
        "Visualisasi objek *objRacerSatu* yang tercipta adalah sebagai berikut : \n",
        "![Objek Car Run](https://raw.githubusercontent.com/rahmadsa/Pemrograman-Java/9108e2bcbca47f9738879dc09be439d7832c03ad/images/carrun.png)\n",
        "\n",
        "\n",
        "Berikutnya kita coba modifikasi nilai *BahanBakar* menjadi nol.\n",
        "\n",
        "Hasilnya, pesan Game Over! akan ditampilkan. Karena method isDead() akan mengembalikan nilai true jika nilai *BahanBakar* kurang atau sama dengan nol.\n",
        "\n",
        "![Objek Car Stop](https://raw.githubusercontent.com/rahmadsa/Pemrograman-Java/9108e2bcbca47f9738879dc09be439d7832c03ad/images/carstop.png)\n",
        "\n"
      ],
      "metadata": {
        "id": "hKrfMkhe3DC9"
      }
    },
    {
      "cell_type": "markdown",
      "source": [
        "**Latihan 3**\n",
        "\n",
        "*Program 12.3*  Tuliskan kode  untuk *class Drone* dengan struktur kompunen sebagai berikut:\n",
        "\n",
        "\n",
        "| **Class Drone** ||\n",
        "| ----------- | ----------- |\n",
        "| **Atribute :** | |\n",
        "| | energi |\n",
        "| | ketinggian |\n",
        "| | kecepatan | \n",
        "| | merek |\n",
        "| **Method :** | |\n",
        "| |  terbang | \n",
        "| |  matikanMesin | \n",
        "| |  belokKanan | \n",
        "| |  belokKiri | \n",
        "| |  Maju | \n",
        "| |  Mundur | \n",
        "| ---------------- | ------------------------ |\n"
      ],
      "metadata": {
        "id": "atCSoEtKZvT2"
      }
    },
    {
      "cell_type": "code",
      "source": [
        "class  Drone  {\n",
        "\n",
        "    // definisi atribut\n",
        "    String merek;\n",
        "    int energi;\n",
        "    int ketinggian;\n",
        "    int kecepatan;\n",
        "    \n",
        "\n",
        "    \n",
        "    void fly(){\n",
        "        System.out.println(merek + \" class  Drone  terbang...\");\n",
        "        System.out.println(\"ketinggin: \"+ketinggian);\n",
        "    }\n",
        "\n",
        "    void motion(){\n",
        "        System.out.println(\"kecepatan:\" +kecepatan); \n",
        "        }\n",
        "         void turn(){\n",
        "        System.out.println(\"energi:\" +energi); \n",
        "        }\n",
        "    boolean isDead(){\n",
        "        if(energi <= 0) return true;\n",
        "        return false;\n",
        "    }\n",
        "\n",
        "}\n",
        " Drone objPilotSatu = new  Drone();\n",
        "\n",
        "objPilotSatu.merek = \"L900 PRO GPS Drone 4K Dual HD Camera RC Distance 1200M With Bag\";\n",
        "objPilotSatu.ketinggian = 70;\n",
        "objPilotSatu.energi = 50;\n",
        "objPilotSatu.kecepatan = 80;\n",
        "\n",
        "\n",
        "System.out.println(\"Fuel  : \"+ objPilotSatu.energi);\n",
        "System.out.println(\"Speed : \"+ objPilotSatu.kecepatan);\n",
        "System.out.println(\"height: \"+ objPilotSatu.ketinggian);\n",
        "\n",
        "objPilotSatu.fly();\n",
        "objPilotSatu.motion();\n",
        "if(objPilotSatu.isDead()){\n",
        "            System.out.println(\"Game Over!\");\n",
        "        }"
      ],
      "metadata": {
        "id": "Nm3UH-gndxfY",
        "colab": {
          "base_uri": "https://localhost:8080/"
        },
        "outputId": "7cdde3f3-64f5-416b-ad30-73787db2075a"
      },
      "execution_count": 59,
      "outputs": [
        {
          "output_type": "stream",
          "name": "stdout",
          "text": [
            "Fuel  : 50\n",
            "Speed : 80\n",
            "height: 70\n",
            "L900 PRO GPS Drone 4K Dual HD Camera RC Distance 1200M With Bag class  Drone  terbang...\n",
            "ketinggin: 70\n",
            "kecepatan:80\n"
          ]
        }
      ]
    },
    {
      "cell_type": "markdown",
      "source": [
        "### 12.2.3 Menentukan Atribut dan Method dari Objek\n",
        "\n",
        "Setiap objek memiliki data (atribut) dan operasi (fungsi).\n",
        "\n",
        "> **Atribut** adalah merupakan ciri-ciri dari objek.\n",
        "\n",
        "> **Method** adalah merupakan tingkah laku atau operasi.\n",
        "Contoh:\n",
        "\n",
        "Berikut ini adalah class dari objek **Senjata**.\n",
        "\n",
        "Dari ciri-ciri **Senjata** berikut data yang bisa dijadikan atribut.\n",
        "* jumlah peluru\n",
        "* jenis\n",
        "* nama senjata\n",
        "* berat\n",
        "* warna\n",
        "\n",
        "Kemudian **Senjata**  memiliki operasi (fungsi) yang bisa dilakukan sebegai berikut.\n",
        "* tembak()\n",
        "* lempar()\n",
        "* kurangiPeluru()\n",
        "* reload()\n",
        "\n",
        "![Objek Car](https://raw.githubusercontent.com/rahmadsa/Pemrograman-Java/9108e2bcbca47f9738879dc09be439d7832c03ad/images/gun.png)\n",
        "\n",
        "Maka implementasi kode dari class **Senjata** adalah seperti berikut:\n",
        "```javascript\n",
        "class Senjata {\n",
        "    // atribut\n",
        "    String nama;\n",
        "    int jumlahPeluru;\n",
        "    \n",
        "    // method\n",
        "    void tembak(){\n",
        "        //..\n",
        "        // setelah nembak, kurangi peluru\n",
        "        jumlahPeluru--;\n",
        "    }\n",
        "\n",
        "    void reload(){\n",
        "        //..\n",
        "        // kalau di-reload maka jumlah peluru diisi ulang\n",
        "        jumlahPeluru = 300;\n",
        "    }\n",
        "}\n",
        "```"
      ],
      "metadata": {
        "id": "1PWK4u_TeD9K"
      }
    },
    {
      "cell_type": "markdown",
      "source": [
        "### 12.13 Konstruktor Class\n",
        "\n",
        "*Constructor* adalah method atau fungsi juga tetapi memiliki karakteristik khusus. \n",
        "\n",
        "> construktor akan dieksekusi pada saat pembuatan objek (instance).\n",
        "\n",
        "> constructor adalah method tetapi nama constructor harus sama seperti nama class.\n",
        "\n",
        "Biasanya method ini digunakan untuk inisialisasi atau mempersiapkan data untuk objek.\n",
        "\n"
      ],
      "metadata": {
        "id": "lAF9bClaYrTx"
      }
    },
    {
      "cell_type": "markdown",
      "source": [
        "### 12.13.1 Contoh Penggunaan Construktor \n",
        "Berikut ini adalah kode contoh penggunaan construktor untuk class Player.\n",
        "```javascript\n",
        "class Player {\n",
        "\n",
        "    // definisi atribut\n",
        "    String name;\n",
        "    int speed;\n",
        "    int healthPoin;\n",
        "\n",
        "    // definisi method\n",
        "    // definisi konstruktor\n",
        "    Player(){\n",
        "      System.out.println(\"Construktor class berjalan...\");\n",
        "    }\n",
        "\n",
        "    // definisi method run\n",
        "    void run(){\n",
        "        System.out.println(name +\" class player berjalan...\");\n",
        "        System.out.println(\"Speed: \"+ speed);\n",
        "    }\n",
        "\n",
        "    // definisi method isDead \n",
        "    boolean isDead(){\n",
        "        if(healthPoin <= 0) return true;\n",
        "        return false;\n",
        "    }\n",
        "}\n",
        "\n",
        "// Implementasi penggunaan objek\n",
        "\n",
        "Player objRacerSatu = new Player();\n",
        "\n",
        "objRacerSatu.name = \"Pembalap 1\";\n",
        "objRacerSatu.speed = 70;\n",
        "objRacerSatu.healthPoin = 80;\n",
        "\n",
        "objRacerSatu.run();\n",
        "```"
      ],
      "metadata": {
        "id": "EbJDzeJidVeq"
      }
    },
    {
      "cell_type": "markdown",
      "source": [
        "## 12.14 Constructor dengan Parameter\n",
        "Constructor biasanya digunakan untuk *initialize* (menyiapkan) data class atau sebagai trigger.\n",
        "\n",
        "Untuk melakukan ini, kita harus membuat parameter sebagai inputan untuk constructor.\n",
        "\n",
        "Contoh:\n",
        "```javascript\n",
        "class Player {\n",
        "\n",
        "    // definisi atribut\n",
        "    String name;\n",
        "    int speed;\n",
        "    int healthPoin;\n",
        "\n",
        "    // definisi konstruktor\n",
        "\t Player(String pName, int pSpeed, int pHealthPoin ){\n",
        "\t \n",
        "      System.out.println(\"Construktor class  dengan parameter berjalan...\");\n",
        "    }\n",
        "}\n",
        "```\n",
        "\n",
        "Pada kode class User di atas, kita menambahkan parameter name, speed dan healthPoin ke dalam constructor.\n",
        "\n",
        "Berarti nanti saat kita membuat objek, kita harus menambahkan nilai parameter seperti ini:\n",
        "```javascript\n",
        "Player petani = new Player(\"Pembalap 2\", 80, 90);\n",
        "```\n",
        "Contoh Kode lengkapnya adalah sebagai berikut.\n",
        "\n",
        "**Program 12.4 Construktor dengan parameter**\n",
        "```javascript\n",
        "class Player {\n",
        "\n",
        "    // definisi atribut\n",
        "    String name;\n",
        "    int speed;\n",
        "    int healthPoin;\n",
        "\n",
        "    // definisi method\n",
        "    // definisi konstruktor\n",
        "    Player(){\n",
        "      System.out.println(\"Construktor class berjalan...\");\n",
        "    }\n",
        "\t\n",
        "\t Player(String pName, int pSpeed, int pHealthPoin ){\n",
        "          name = pName;\n",
        "          speed = pSpeed;\n",
        "          healthPoin = pHealthPoin;\n",
        "\t\t  \n",
        "\t\t  System.out.println(\"Construktor class  dengan parameter berjalan...\");\n",
        "    }\n",
        "\n",
        "    // definisi method run\n",
        "    void run(){\n",
        "        System.out.println(name +\" class player berjalan...\");\n",
        "        System.out.println(\"Speed: \"+ speed);\n",
        "    }\n",
        "\n",
        "    // definisi method isDead \n",
        "    boolean isDead(){\n",
        "        if(healthPoin <= 0) return true;\n",
        "        return false;\n",
        "    }\n",
        "}\n",
        "```\n",
        "Untuk implementasi dari class diatas adalah sebagai berikut:\n",
        "```javascript\n",
        "// Implementasi penggunaan objek\n",
        "\n",
        "//Objek objRacerSatu \n",
        "Player objRacerSatu = new Player();\n",
        "\n",
        "objRacerSatu.name = \"Pembalap 1\";\n",
        "objRacerSatu.speed = 70;\n",
        "objRacerSatu.healthPoin = 80;\n",
        "\n",
        "objRacerSatu.run()\n",
        "\n",
        "//Objek objRacerDua\n",
        "Player objRacerDua = new Player(\"Pembalap 2\", 80, 90);\n",
        "objRacerDua.run()\n",
        "```\n",
        "**Latihan 4**\n",
        "\n",
        "Implementasi kode *Program 12.4* pada field kode dibawah ini amatilah hasilnya."
      ],
      "metadata": {
        "id": "iC7B36OR7p-a"
      }
    },
    {
      "cell_type": "code",
      "source": [
        "class Player {\n",
        "\n",
        "    // definisi atribut\n",
        "    String name;\n",
        "    int speed;\n",
        "    int healthPoin;\n",
        "\n",
        "    // definisi method\n",
        "    // definisi konstruktor\n",
        "    Player(){\n",
        "      System.out.println(\"Construktor class berjalan...\");\n",
        "    }\n",
        "\n",
        "     Player(String pName, int pSpeed, int pHealthPoin ){\n",
        "          name = pName;\n",
        "          speed = pSpeed;\n",
        "          healthPoin = pHealthPoin;\n",
        "\n",
        "          System.out.println(\"Construktor class  dengan parameter berjalan...\");\n",
        "    }\n",
        "\n",
        "    // definisi method run\n",
        "    void run(){\n",
        "        System.out.println(name +\" class player berjalan...\");\n",
        "        System.out.println(\"Speed: \"+ speed);\n",
        "    }\n",
        "\n",
        "    // definisi method isDead \n",
        "    boolean isDead(){\n",
        "        if(healthPoin <= 0) return true;\n",
        "        return false;\n",
        "    }\n",
        "}\n",
        "// Implementasi penggunaan objek\n",
        "\n",
        "//Objek objRacerSatu \n",
        "Player objRacerSatu = new Player();\n",
        "\n",
        "objRacerSatu.name = \"Pembalap 1\";\n",
        "objRacerSatu.speed = 70;\n",
        "objRacerSatu.healthPoin = 80;\n",
        "\n",
        "objRacerSatu.run();\n",
        "\n",
        "//Objek objRacerDua\n",
        "Player objRacerDua = new Player(\"Pembalap 2\", 80, 90);\n",
        "objRacerDua.run();"
      ],
      "metadata": {
        "id": "Wier6FGT9Y7_",
        "colab": {
          "base_uri": "https://localhost:8080/"
        },
        "outputId": "ad6022e7-552b-4fed-c92b-684be15fab6a"
      },
      "execution_count": 79,
      "outputs": [
        {
          "output_type": "stream",
          "name": "stdout",
          "text": [
            "Construktor class berjalan...\n",
            "Pembalap 1 class player berjalan...\n",
            "Speed: 70\n",
            "Construktor class  dengan parameter berjalan...\n",
            "Pembalap 2 class player berjalan...\n",
            "Speed: 80\n"
          ]
        }
      ]
    },
    {
      "cell_type": "markdown",
      "metadata": {
        "id": "TwESgV2CN9o4"
      },
      "source": [
        "##13.3 Tugas\n",
        "\n",
        "### 13.3.1 Tugas 1\n",
        "Kerjakan semua latihan diatas, kemudian amati dan pahamilah dari latiahan yang ada.\n",
        "\n",
        "\n"
      ]
    },
    {
      "cell_type": "markdown",
      "source": [
        "##13.3 Tugas Project\n",
        "Pilihlah 3 class dari tugas project sebelumnya **11.3 Tugas Project** \n",
        "\n",
        "Kemudian implementasikan  dalam kode bahasa pemrograman Java struktur class dari 3 class yang anda pilih\n",
        "\n",
        "\n"
      ],
      "metadata": {
        "id": "Yn8dtTy2nbPL"
      }
    },
    {
      "cell_type": "code",
      "source": [
        "class  Hero  {\n",
        "\n",
        "    // definisi atribut\n",
        "    String Jenis;\n",
        "    String Gerak;\n",
        "    int energi;\n",
        "    int berjalan;\n",
        "    int kecepatan;\n",
        "    \n",
        "\n",
        "    \n",
        "    void Run(){\n",
        "        System.out.println(Jenis + \" Kecil - Sedang - Besar\");\n",
        "        System.out.println(\"Berjalan:\" +berjalan);\n",
        "        System.out.println(Gerak + \" Berhenti - berbelok\");\n",
        "    }\n",
        "\n",
        "    void motion(){\n",
        "        System.out.println(\"kecepatan:\" +kecepatan); \n",
        "        }\n",
        "         void turn(){\n",
        "        System.out.println(\"energi:\" +energi); \n",
        "        }\n",
        "    boolean isDead(){\n",
        "        if(energi <= 0) return true;\n",
        "        return false;\n",
        "    }\n",
        "\n",
        "}\n",
        " Hero objPahlawan = new Hero();\n",
        "\n",
        "objPahlawan.Jenis = \"Hero\";\n",
        "objPahlawan.Gerak = \"Gerak\";\n",
        "objPahlawan.berjalan = 70;\n",
        "objPahlawan.energi = 50;\n",
        "objPahlawan.kecepatan = 80;\n",
        "\n",
        "\n",
        "System.out.println(\"Fuel  : \"+ objPahlawan.energi);\n",
        "System.out.println(\"Speed : \"+ objPahlawan.kecepatan);\n",
        "System.out.println(\"Run   : \"+ objPahlawan.berjalan);\n",
        "\n",
        "objPahlawan.Run();\n",
        "objPahlawan.motion();\n",
        "if(objPahlawan.isDead()){\n",
        "            System.out.println(\"Game Over!\");\n",
        "        }"
      ],
      "metadata": {
        "id": "Xn3lsmefjNdP",
        "colab": {
          "base_uri": "https://localhost:8080/"
        },
        "outputId": "b8e94353-c1b7-49df-b62b-beddabf078f2"
      },
      "execution_count": 132,
      "outputs": [
        {
          "output_type": "stream",
          "name": "stdout",
          "text": [
            "Fuel  : 50\n",
            "Speed : 80\n",
            "Run   : 70\n",
            "Hero Kecil - Sedang - Besar\n",
            "Berjalan:70\n",
            "Gerak Berhenti - berbelok\n",
            "kecepatan:80\n"
          ]
        }
      ]
    }
  ],
  "metadata": {
    "colab": {
      "collapsed_sections": [],
      "name": "Anang Hidayat_Tugas_10_class_dan_objek_dalam_kode.ipynb",
      "provenance": []
    },
    "kernelspec": {
      "display_name": "Java",
      "language": "java",
      "name": "java"
    },
    "language_info": {
      "codemirror_mode": "java",
      "file_extension": ".jshell",
      "mimetype": "text/x-java-source",
      "name": "java",
      "pygments_lexer": "java",
      "version": "17.0.1+12-LTS-39"
    },
    "toc": {
      "base_numbering": 1,
      "nav_menu": {},
      "number_sections": false,
      "sideBar": false,
      "skip_h1_title": false,
      "title_cell": "Table of Contents",
      "title_sidebar": "Contents",
      "toc_cell": false,
      "toc_position": {},
      "toc_section_display": false,
      "toc_window_display": false
    }
  },
  "nbformat": 4,
  "nbformat_minor": 0
}