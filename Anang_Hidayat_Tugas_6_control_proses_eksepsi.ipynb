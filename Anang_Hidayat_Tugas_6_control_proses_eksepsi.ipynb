{
  "nbformat": 4,
  "nbformat_minor": 0,
  "metadata": {
    "colab": {
      "name": "Anang Hidayat_Tugas_6_control_proses_eksepsi.ipynb",
      "provenance": [],
      "collapsed_sections": [],
      "toc_visible": true
    },
    "kernelspec": {
      "display_name": "Java",
      "language": "java",
      "name": "java"
    },
    "language_info": {
      "codemirror_mode": "text/x-java",
      "file_extension": ".java",
      "mimetype": "",
      "name": "Java",
      "nbconverter_exporter": "",
      "version": "15.0.2"
    },
    "toc": {
      "base_numbering": 1,
      "nav_menu": {},
      "number_sections": false,
      "sideBar": false,
      "skip_h1_title": false,
      "title_cell": "Table of Contents",
      "title_sidebar": "Contents",
      "toc_cell": false,
      "toc_position": {},
      "toc_section_display": false,
      "toc_window_display": false
    }
  },
  "cells": [
    {
      "cell_type": "code",
      "metadata": {
        "id": "iikHUtEExLIP"
      },
      "source": [
        ""
      ],
      "execution_count": null,
      "outputs": []
    },
    {
      "cell_type": "markdown",
      "metadata": {
        "id": "bUB6YkbKzq6e"
      },
      "source": [
        "\n",
        "\n",
        "---\n",
        "\n"
      ]
    },
    {
      "cell_type": "markdown",
      "metadata": {
        "id": "7QbClP-5yKVi"
      },
      "source": [
        "# Petunjuk Penting !!\n",
        "\n",
        "## Lakukan Inisialisasi Java Kompailer untuk Google Colab\n",
        "\n",
        "Notebook ini menggunakan Java di Google Colaboratory sebagai kompailer. Untuk itu lakukan dua langkah dibawah ini sebelum anda bekerja dengan notebook ini\n",
        "\n",
        "1. Jalankan perintah pada cell diabawah ini (klik tombol run atau tekan tombol `Shift`+`Enter` secara bersamaan)"
      ]
    },
    {
      "cell_type": "code",
      "metadata": {
        "id": "lUr92Wb1yzXm",
        "colab": {
          "base_uri": "https://localhost:8080/"
        },
        "outputId": "9dfeab29-3a33-4da2-db36-93d227725798"
      },
      "source": [
        "!apt update -q\n",
        "!apt-get install -q openjdk-11-jdk-headless\n",
        "!curl -L https://github.com/SpencerPark/IJava/releases/download/v1.3.0/ijava-1.3.0.zip -o ijava-kernel.zip\n",
        "!unzip -q ijava-kernel.zip -d ijava-kernel && cd ijava-kernel && python3 install.py --sys-prefix\n",
        "!jupyter kernelspec list"
      ],
      "execution_count": null,
      "outputs": [
        {
          "output_type": "stream",
          "name": "stdout",
          "text": [
            "Get:1 https://cloud.r-project.org/bin/linux/ubuntu bionic-cran40/ InRelease [3,626 B]\n",
            "Ign:2 https://developer.download.nvidia.com/compute/cuda/repos/ubuntu1804/x86_64  InRelease\n",
            "Get:3 http://security.ubuntu.com/ubuntu bionic-security InRelease [88.7 kB]\n",
            "Get:4 http://ppa.launchpad.net/c2d4u.team/c2d4u4.0+/ubuntu bionic InRelease [15.9 kB]\n",
            "Ign:5 https://developer.download.nvidia.com/compute/machine-learning/repos/ubuntu1804/x86_64  InRelease\n",
            "Get:6 https://developer.download.nvidia.com/compute/cuda/repos/ubuntu1804/x86_64  Release [696 B]\n",
            "Hit:7 https://developer.download.nvidia.com/compute/machine-learning/repos/ubuntu1804/x86_64  Release\n",
            "Hit:8 http://archive.ubuntu.com/ubuntu bionic InRelease\n",
            "Get:9 https://developer.download.nvidia.com/compute/cuda/repos/ubuntu1804/x86_64  Release.gpg [836 B]\n",
            "Get:10 http://archive.ubuntu.com/ubuntu bionic-updates InRelease [88.7 kB]\n",
            "Get:11 https://cloud.r-project.org/bin/linux/ubuntu bionic-cran40/ Packages [69.5 kB]\n",
            "Hit:12 http://ppa.launchpad.net/cran/libgit2/ubuntu bionic InRelease\n",
            "Get:14 http://archive.ubuntu.com/ubuntu bionic-backports InRelease [74.6 kB]\n",
            "Hit:15 http://ppa.launchpad.net/deadsnakes/ppa/ubuntu bionic InRelease\n",
            "Hit:16 http://ppa.launchpad.net/graphics-drivers/ppa/ubuntu bionic InRelease\n",
            "Get:17 http://security.ubuntu.com/ubuntu bionic-security/main amd64 Packages [2,396 kB]\n",
            "Get:18 http://security.ubuntu.com/ubuntu bionic-security/restricted amd64 Packages [630 kB]\n",
            "Get:19 http://security.ubuntu.com/ubuntu bionic-security/universe amd64 Packages [1,434 kB]\n",
            "Get:20 https://developer.download.nvidia.com/compute/cuda/repos/ubuntu1804/x86_64  Packages [753 kB]\n",
            "Get:21 http://ppa.launchpad.net/c2d4u.team/c2d4u4.0+/ubuntu bionic/main Sources [1,809 kB]\n",
            "Get:22 http://archive.ubuntu.com/ubuntu bionic-updates/restricted amd64 Packages [665 kB]\n",
            "Get:23 http://archive.ubuntu.com/ubuntu bionic-updates/main amd64 Packages [2,835 kB]\n",
            "Get:24 http://ppa.launchpad.net/c2d4u.team/c2d4u4.0+/ubuntu bionic/main amd64 Packages [926 kB]\n",
            "Get:25 http://archive.ubuntu.com/ubuntu bionic-updates/universe amd64 Packages [2,213 kB]\n",
            "Fetched 14.0 MB in 4s (3,905 kB/s)\n",
            "Reading package lists...\n",
            "Building dependency tree...\n",
            "Reading state information...\n",
            "68 packages can be upgraded. Run 'apt list --upgradable' to see them.\n",
            "Reading package lists...\n",
            "Building dependency tree...\n",
            "Reading state information...\n",
            "openjdk-11-jdk-headless is already the newest version (11.0.11+9-0ubuntu2~18.04).\n",
            "0 upgraded, 0 newly installed, 0 to remove and 68 not upgraded.\n",
            "  % Total    % Received % Xferd  Average Speed   Time    Time     Time  Current\n",
            "                                 Dload  Upload   Total   Spent    Left  Speed\n",
            "100   623  100   623    0     0   4125      0 --:--:-- --:--:-- --:--:--  4125\n",
            "100 3287k  100 3287k    0     0  9391k      0 --:--:-- --:--:-- --:--:-- 9391k\n",
            "install.py:169: DeprecationWarning: replace is ignored. Installing a kernelspec always replaces an existing installation\n",
            "  replace=args.replace\n",
            "Installed java kernel into \"/usr/share/jupyter/kernels/java\"\n",
            "Available kernels:\n",
            "  ir         /usr/local/share/jupyter/kernels/ir\n",
            "  python2    /usr/local/share/jupyter/kernels/python2\n",
            "  python3    /usr/local/share/jupyter/kernels/python3\n",
            "  java       /usr/share/jupyter/kernels/java\n"
          ]
        }
      ]
    },
    {
      "cell_type": "markdown",
      "metadata": {
        "id": "05gvKabVzOQD"
      },
      "source": [
        "2. Kemudian refresh halaman notebook (page) (tekan tombol `F5`) atau that. atau tekan tombol refresh/reload. "
      ]
    },
    {
      "cell_type": "markdown",
      "metadata": {
        "id": "fizVCMLKzf8A"
      },
      "source": [
        "---\n"
      ]
    },
    {
      "cell_type": "markdown",
      "metadata": {
        "id": "VD3Bt8LiFs-E"
      },
      "source": [
        "# 8. Pengenalan Eksepsi\n",
        "\n",
        "## 8.1 Tujuan\n",
        "Dalam bagian ini, kita akan mempelajari teknik yang dipakai dalam Java dalam menangani kondisi\n",
        "yang tidak biasa dalam menjalankan operasi normal dalam program. Teknik ini dinamakan ***exception handling***.\n",
        "Pada akhir pembahasan, diharapkan pembaca dapat :\n",
        "1. Mendefinisikan ***exception***\n",
        "2. Menangani exception menggunakan blok ***try-catch-finally***\n",
        "\n",
        "## 8.2 Apa itu Exception?\n",
        "**Exception** adalah sebuah peristiwa yang menjalankan alur proses normal pada program. Peristiwa\n",
        "ini biasanya berupa kesalahan(*error*) dari beberapa bentuk. Ini disebabkan program kita berakhir\n",
        "tidak normal.\n",
        "\n",
        "## 8.3 Penanganan Eksepsi Pada Pemrograman Java\n",
        "Agar kesalahan karena eksepsi dapat di kendalikan, eksepsi perlu \"ditangkap\" (*catch*). untuk menangkap eksepsi java menyediakan pernyataan try. pernyataan ini memiliki dua buah bentuk.\n",
        "\n",
        "Cara penggunaan penanganan eksepsi.\n",
        "### 8.3.1. menangkap eksepsi bentuk Pertama //try-catch :\n",
        "\n",
        "**Program 8.3.1.** menangkap eksepsi bentuk Pertama\n",
        "```javascript\n",
        "try {\n",
        " // Blok yang akan di tangkap jika terjadi eksepsi\n",
        " }catch (<exceptionType1> <varName1>){\n",
        " // Blok yang akan di jalankan kalau terjadi eksepsi\n",
        " }\n",
        "```\n",
        "contoh eksepsi bentuk pertama\n",
        "```javascript\n",
        "        try {\n",
        "            int hitung = 8 / 0;\n",
        "            System.out.println(\"hasil = \" + hitung);\n",
        "        } catch (Throwable t) {\n",
        "            System.err.print(\"error !! terjadi pembagian nol\");\n",
        "        }\n",
        "        System.out.println(\"sukses melewati eksepsi\");\n",
        "```\n"
      ]
    },
    {
      "cell_type": "code",
      "metadata": {
        "id": "MRwZSTDDsy00",
        "colab": {
          "base_uri": "https://localhost:8080/"
        },
        "outputId": "31910280-3bdd-4b27-a524-0de04cde4cc0"
      },
      "source": [
        "try {\n",
        "            int hitung = 8 / 0;\n",
        "            System.out.println(\"hasil = \" + hitung);\n",
        "        } catch (Throwable t) {\n",
        "            System.err.print(\"error !! terjadi pembagian nol\");\n",
        "        }\n",
        "        System.out.println(\"sukses melewati eksepsi\");"
      ],
      "execution_count": null,
      "outputs": [
        {
          "output_type": "stream",
          "name": "stderr",
          "text": [
            "error !! terjadi pembagian nol"
          ]
        },
        {
          "output_type": "stream",
          "name": "stdout",
          "text": [
            "sukses melewati eksepsi\n"
          ]
        }
      ]
    },
    {
      "cell_type": "markdown",
      "metadata": {
        "id": "th5UNCNas0pg"
      },
      "source": [
        "**penjelasan :**\n",
        "1. ketika program di jalankan statement pada blok try akan di jalankan lebih dulu.\n",
        "\n",
        "2. statement 8 / 0 akan terjadi error (terjadi eksepsi)\n",
        "3. jika pada blok try terjadi error (terjadi eksepsi), maka blok catch akan di jalankan\n",
        "4. dan jika saja blok try nilainya true atau tidak terjadi error maka  blok catch tidak akan di jalankan.\n",
        "5. karena adannya penangkapan eksepsi maka statement\n",
        "\n",
        "```\n",
        "// System.out.println(\"sukses melewati eksepsi\"); akan tetap jalan.\n",
        "```\n"
      ]
    },
    {
      "cell_type": "markdown",
      "metadata": {
        "id": "38DQacocucgY"
      },
      "source": [
        "### 8.3.2. selanjutnnya menangkap eksepsi bentuk kedua //try-finally :\n",
        "\n",
        "\n",
        "```javascript\n",
        "try {\n",
        " // Blok yang akan di tangkap jika terjadi eksepsi\n",
        " }finally{\n",
        " // Blok yang akan di jalankan kalau terjadi eksepsi\n",
        " }\n",
        "```\n",
        "contoh penangkapan eksepsi bentuk kedua :\n",
        "\n",
        "**Program 8.3.2.** menangkap eksepsi bentuk kedua\n",
        "```javascript\n",
        "     try {\n",
        "            int hitung = 8 / 0;\n",
        "            System.out.println(\"hasil = \" + hitung);\n",
        "        } finally {\n",
        "            System.err.print(\"menjalankan blok finally\");\n",
        "        }\n",
        "        System.out.println(\"sukses melewati eksepsi\");\n",
        "```"
      ]
    },
    {
      "cell_type": "code",
      "metadata": {
        "id": "-i4Fe7GPu6Z5"
      },
      "source": [
        "//Implentasi Program 8.3.2 menangkap eksepsi bentuk Pertama"
      ],
      "execution_count": null,
      "outputs": []
    },
    {
      "cell_type": "markdown",
      "metadata": {
        "id": "1ALXX5PHvT0r"
      },
      "source": [
        "**penjelasan :**\n",
        "1. ketika program di jalankan statement pada blok try akan di jalankan lebih dulu.\n",
        "2. statement 8 / 0 akan terjadi error (terjadi eksepsi)\n",
        "3. dan pada blok finally akan di jalankan, tidak tergantung apakah bagian blok try mengalami eksepsi atau tidak.\n",
        "4. karena adannya penangkapan eksepsi maka statement\n",
        "\n",
        "\n",
        "```\n",
        "\n",
        "// System.out.println(\"sukses melewati eksepsi\"); akan tetap jalan.\n",
        "\n",
        "```\n"
      ]
    },
    {
      "cell_type": "markdown",
      "metadata": {
        "id": "Dqq6MEXPvdus"
      },
      "source": [
        "### 8.3.3. Penggabungan eksepsi bentuk kedua dan pertama  :\n",
        "\n",
        "Exception dilemparkan selama eksekusi dari blok try dapat ditangkap dan ditangani dalam blok\n",
        "catch. Kode dalam blok finally selalu di-eksekusi.\n",
        "\n",
        "\n",
        "```javascript\n",
        "try {\n",
        "  // Blok yang akan di tangkap jika terjadi eksepsi\n",
        " }catch (<exceptionType1> <varName1>){\n",
        "  // Blok yang akan di jalankan kalau terjadi eksepsi\n",
        " }finally {\n",
        "  //System.err.print(\"menjalankan blok finally\");\n",
        " }\n",
        "```\n",
        "\n",
        "\n",
        "\n",
        "Berikut ini adalah aspek kunci tentang sintak dari konstruksi try-catch-finally:\n",
        "1. Notasi blok bersifat perintah\n",
        "2. Setiap blok try, terdapat satu atau lebih blok catch, tetapi hanya satu blok finally.\n",
        "3. Blok catch dan blok finally harus selalu muncul dalam konjungsi dengan blok try, dan diatas\n",
        "urutan\n",
        "4. Blok try harus diikuti oleh paling sedikit satu blok catch ATAU satu blok finally, atau\n",
        "keduanya.\n",
        "5. Setiap blok catch mendefinisikan sebuah penanganan exception. Header dari blok catch\n",
        "harus membawa satu argumen, dimana exception pada blok tersebut akan ditangani.\n",
        "Exception harus menjadi class pelempar atau satu dari subclassesnya.\n",
        "\n",
        "contoh penggunaan penggabungan eksepsi\n",
        "\n",
        "**Program 8.3.3.** Penggabungan menangkap eksepsi bentuk pertama dan kedua\n",
        "\n",
        "```javascript\n",
        "    try {\n",
        "            int hitung = 8 / 0;\n",
        "            System.out.println(\"hasil = \" + hitung);\n",
        "        } catch (Throwable t) {\n",
        "            System.err.print(\"error !! terjadi pembagian nol\");\n",
        "        } finally {\n",
        "            System.err.print(\"menjalankan blok finally\");\n",
        "        }\n",
        "        System.out.println(\"sukses melewati eksepsi\");\n",
        "    }\n",
        "```\n",
        "\n"
      ]
    },
    {
      "cell_type": "code",
      "metadata": {
        "id": "CEx-jYTfvyuW"
      },
      "source": [
        "//implemntasi Program 8.3.3. Penggabungan menangkap eksepsi"
      ],
      "execution_count": null,
      "outputs": []
    },
    {
      "cell_type": "markdown",
      "metadata": {
        "id": "1wIZEeV7w6RD"
      },
      "source": [
        "**penjelasan :**\n",
        "1. ketika program di jalankan statement pada blok try akan di jalankan lebih dulu.\n",
        "2. statement 8 / 0 akan terjadi error (terjadi eksepsi)\n",
        "3. jika pada blok try terjadi error (terjadi eksepsi), maka blok catch akan di jalankan.\n",
        "4. dan pada blok finally akan tetap jalankan, karena tidak tergantung apakah 5. bagian blok try mengalami eksepsi atau tidak.\n",
        "6. karena adannya penangkapan eksepsi maka statement\n",
        "\n",
        "\n",
        "\n",
        "```\n",
        "// System.out.println(\"sukses melewati eksepsi\"); akan tetap jalan.\n",
        "```\n",
        "\n",
        "dengan penangkapan eksepsi dengan try, kesalahan yang terjadi tidak mengakibatkan eksekusi program dihentikan.\n",
        "\n",
        "demikian penjelasan tentang pengenalan penanganan eksepsi pada pemrograman java"
      ]
    },
    {
      "cell_type": "markdown",
      "metadata": {
        "id": "1BF-A0oPrBL_"
      },
      "source": [
        "## **Tugas VI**\n",
        "\n",
        "Implentasikan Program 8.3.1, Program 8.3.2 dan Program 8.3.3 diatas amati hasilnya dan tuliskan kesimpulan dibawah ini "
      ]
    },
    {
      "cell_type": "markdown",
      "metadata": {
        "id": "cdgrSjRr0Eq5"
      },
      "source": [
        "**JAWAB**\n",
        "\n",
        "dengan penangkapan eksepsi dengan try, kesalahan yang terjadi tidak mengakibatkan eksekusi program dihentikan.\n",
        "\n",
        "demikian penjelasan tentang pengenalan penanganan eksepsi pada pemrograman java\n",
        " \n",
        "1.   ketika program di jalankan statement pada blok try akan di jalankan lebih dulu\n",
        "2.   statement 8 / 0 akan terjadi error (terjadi eksepsi)\n",
        "3. jika pada blok try terjadi error (terjadi eksepsi), maka blok catch akan di jalankan.\n",
        "4. dan pada blok finally akan tetap jalankan, karena tidak tergantung apakah bagian blok try mengalami eksepsi atau tidak.\n",
        "5. karena adannya penangkapan eksepsi maka statement"
      ]
    },
    {
      "cell_type": "markdown",
      "metadata": {
        "id": "zT6nxQWwvlLR"
      },
      "source": [
        "## Soal UAS \n",
        "Berikut ini ada kode java operasi pembagian integer. Implementasikan Eksepsi pada kode dibawah ini.\n",
        "\n",
        "```javascript\n",
        "\n",
        "        int x = 10;\n",
        "\n",
        "        x = x / 0;\n",
        "\n",
        "        System.out.println(x);\n",
        "\n",
        "        System.out.println(\"akhir program\");\n",
        "```"
      ]
    },
    {
      "cell_type": "code",
      "metadata": {
        "id": "cELXKSeFznoe",
        "colab": {
          "base_uri": "https://localhost:8080/"
        },
        "outputId": "2489aa2f-9fe6-486f-d008-57590fad7f8a"
      },
      "source": [
        "try {\n",
        "        int x = 10;\n",
        "        x = x / 5;\n",
        "        System.out.println(\"Hasil : \"+ x);\n",
        "    } catch (Throwable t) {\n",
        "        System.err.print(\"Error !! terjadi pembagian nol\");\n",
        "    }\n",
        "        System.out.println(\"Program Berakhir\");"
      ],
      "execution_count": 15,
      "outputs": [
        {
          "output_type": "stream",
          "name": "stdout",
          "text": [
            "Hasil : 2\n",
            "Program Berakhir\n"
          ]
        }
      ]
    }
  ]
}