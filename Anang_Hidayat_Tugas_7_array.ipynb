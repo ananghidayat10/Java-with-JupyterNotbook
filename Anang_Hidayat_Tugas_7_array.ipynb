{
  "nbformat": 4,
  "nbformat_minor": 0,
  "metadata": {
    "colab": {
      "name": "Anang Hidayat_Tugas 7_array.ipynb",
      "provenance": [],
      "collapsed_sections": []
    },
    "kernelspec": {
      "display_name": "Java",
      "language": "java",
      "name": "java"
    },
    "language_info": {
      "codemirror_mode": "text/x-java",
      "file_extension": ".java",
      "mimetype": "",
      "name": "Java",
      "nbconverter_exporter": "",
      "version": "15.0.2"
    },
    "toc": {
      "base_numbering": 1,
      "nav_menu": {},
      "number_sections": false,
      "sideBar": false,
      "skip_h1_title": false,
      "title_cell": "Table of Contents",
      "title_sidebar": "Contents",
      "toc_cell": false,
      "toc_position": {},
      "toc_section_display": false,
      "toc_window_display": false
    }
  },
  "cells": [
    {
      "cell_type": "code",
      "metadata": {
        "id": "iikHUtEExLIP"
      },
      "source": [
        ""
      ],
      "execution_count": null,
      "outputs": []
    },
    {
      "cell_type": "markdown",
      "metadata": {
        "id": "bUB6YkbKzq6e"
      },
      "source": [
        "\n",
        "\n",
        "---\n",
        "\n"
      ]
    },
    {
      "cell_type": "markdown",
      "metadata": {
        "id": "7QbClP-5yKVi"
      },
      "source": [
        "#Petunjuk Penting !!\n",
        "\n",
        "## Lakukan Inisialisasi Java Kompailer untuk Google Colab\n",
        "Notebook ini menggunakan Java di Google Colaboratory sebagai kompailer. Untuk itu lakukan dua langkah dibawah ini sebelum anda bekerja dengan notebook ini\n",
        "\n",
        "1. Jalankan perintah pada cell diabawah ini (klik tombol run atau tekan tombol `Shift`+`Enter` secara bersamaan)"
      ]
    },
    {
      "cell_type": "code",
      "metadata": {
        "id": "lUr92Wb1yzXm",
        "colab": {
          "base_uri": "https://localhost:8080/"
        },
        "outputId": "46bd56a1-b5e3-43b1-c7bd-f4bb56bcb12a"
      },
      "source": [
        "!apt update -q\n",
        "!apt-get install -q openjdk-11-jdk-headless\n",
        "!curl -L https://github.com/SpencerPark/IJava/releases/download/v1.3.0/ijava-1.3.0.zip -o ijava-kernel.zip\n",
        "!unzip -q ijava-kernel.zip -d ijava-kernel && cd ijava-kernel && python3 install.py --sys-prefix\n",
        "!jupyter kernelspec list"
      ],
      "execution_count": null,
      "outputs": [
        {
          "output_type": "stream",
          "name": "stdout",
          "text": [
            "Get:1 http://security.ubuntu.com/ubuntu bionic-security InRelease [88.7 kB]\n",
            "Get:2 https://cloud.r-project.org/bin/linux/ubuntu bionic-cran40/ InRelease [3,626 B]\n",
            "Get:3 http://ppa.launchpad.net/c2d4u.team/c2d4u4.0+/ubuntu bionic InRelease [15.9 kB]\n",
            "Hit:4 http://archive.ubuntu.com/ubuntu bionic InRelease\n",
            "Ign:5 https://developer.download.nvidia.com/compute/cuda/repos/ubuntu1804/x86_64  InRelease\n",
            "Get:6 http://archive.ubuntu.com/ubuntu bionic-updates InRelease [88.7 kB]\n",
            "Ign:7 https://developer.download.nvidia.com/compute/machine-learning/repos/ubuntu1804/x86_64  InRelease\n",
            "Get:8 https://developer.download.nvidia.com/compute/cuda/repos/ubuntu1804/x86_64  Release [696 B]\n",
            "Hit:9 https://developer.download.nvidia.com/compute/machine-learning/repos/ubuntu1804/x86_64  Release\n",
            "Get:10 https://developer.download.nvidia.com/compute/cuda/repos/ubuntu1804/x86_64  Release.gpg [836 B]\n",
            "Get:11 http://security.ubuntu.com/ubuntu bionic-security/main amd64 Packages [2,398 kB]\n",
            "Hit:12 http://ppa.launchpad.net/cran/libgit2/ubuntu bionic InRelease\n",
            "Get:13 http://security.ubuntu.com/ubuntu bionic-security/universe amd64 Packages [1,434 kB]\n",
            "Get:14 http://archive.ubuntu.com/ubuntu bionic-backports InRelease [74.6 kB]\n",
            "Get:15 http://ppa.launchpad.net/deadsnakes/ppa/ubuntu bionic InRelease [15.9 kB]\n",
            "Get:16 http://security.ubuntu.com/ubuntu bionic-security/restricted amd64 Packages [632 kB]\n",
            "Get:17 https://cloud.r-project.org/bin/linux/ubuntu bionic-cran40/ Packages [69.5 kB]\n",
            "Hit:18 http://ppa.launchpad.net/graphics-drivers/ppa/ubuntu bionic InRelease\n",
            "Get:19 http://ppa.launchpad.net/c2d4u.team/c2d4u4.0+/ubuntu bionic/main Sources [1,810 kB]\n",
            "Get:21 https://developer.download.nvidia.com/compute/cuda/repos/ubuntu1804/x86_64  Packages [785 kB]\n",
            "Get:22 http://ppa.launchpad.net/c2d4u.team/c2d4u4.0+/ubuntu bionic/main amd64 Packages [926 kB]\n",
            "Get:23 http://archive.ubuntu.com/ubuntu bionic-updates/restricted amd64 Packages [665 kB]\n",
            "Get:24 http://archive.ubuntu.com/ubuntu bionic-updates/main amd64 Packages [2,835 kB]\n",
            "Get:25 http://archive.ubuntu.com/ubuntu bionic-updates/universe amd64 Packages [2,213 kB]\n",
            "Get:26 http://ppa.launchpad.net/deadsnakes/ppa/ubuntu bionic/main amd64 Packages [45.3 kB]\n",
            "Fetched 14.1 MB in 4s (3,985 kB/s)\n",
            "Reading package lists...\n",
            "Building dependency tree...\n",
            "Reading state information...\n",
            "72 packages can be upgraded. Run 'apt list --upgradable' to see them.\n",
            "Reading package lists...\n",
            "Building dependency tree...\n",
            "Reading state information...\n",
            "openjdk-11-jdk-headless is already the newest version (11.0.11+9-0ubuntu2~18.04).\n",
            "0 upgraded, 0 newly installed, 0 to remove and 72 not upgraded.\n",
            "  % Total    % Received % Xferd  Average Speed   Time    Time     Time  Current\n",
            "                                 Dload  Upload   Total   Spent    Left  Speed\n",
            "100   623  100   623    0     0   4719      0 --:--:-- --:--:-- --:--:--  4684\n",
            "100 3287k  100 3287k    0     0  10.1M      0 --:--:-- --:--:-- --:--:-- 10.1M\n",
            "install.py:169: DeprecationWarning: replace is ignored. Installing a kernelspec always replaces an existing installation\n",
            "  replace=args.replace\n",
            "Installed java kernel into \"/usr/share/jupyter/kernels/java\"\n",
            "Available kernels:\n",
            "  ir         /usr/local/share/jupyter/kernels/ir\n",
            "  python2    /usr/local/share/jupyter/kernels/python2\n",
            "  python3    /usr/local/share/jupyter/kernels/python3\n",
            "  java       /usr/share/jupyter/kernels/java\n"
          ]
        }
      ]
    },
    {
      "cell_type": "markdown",
      "metadata": {
        "id": "05gvKabVzOQD"
      },
      "source": [
        "2. Kemudian refresh halaman notebook (page) (tekan tombol `F5`) atau that. atau tekan tombol refresh/reload. "
      ]
    },
    {
      "cell_type": "markdown",
      "metadata": {
        "id": "fizVCMLKzf8A"
      },
      "source": [
        "---\n"
      ]
    },
    {
      "cell_type": "markdown",
      "metadata": {
        "id": "VD3Bt8LiFs-E"
      },
      "source": [
        "# 9. Tipe Data Array\n",
        "\n",
        "## 9.1 Tujuan\n",
        "Dalam bab ini, kita akan mendiskusikan mengenai array dalam Java. Pertama, kita akan mendefinisikan apa yang dimaksud dengan array, kemudian kita juga akan mendiskusikan bagaimana mendeklarasikannya dan menggunakannya dalam Java.\n",
        "Pada akhir pembahasan, diharapkan pembaca dapat :\n",
        "- Mendeklarasikan dan membuat array\n",
        "- Mengakses elemen-elemen didalam array\n",
        "- Menentukan jumlah element didalam sebuah array\n",
        "- Mendeklarasikan dan membuat array multidimensi\n"
      ]
    },
    {
      "cell_type": "markdown",
      "metadata": {
        "id": "JuNOzB9Vvbxm"
      },
      "source": [
        "## 9.2 Pengenalan Array\n",
        "\n",
        "Apa yang akan kita lakukan bila memiliki banyak data yang akan disimpan dalam vairabel?\n",
        "\n",
        "Misalkan kita ingin menyimpan nama-nama mahasiswa dalam variabel.\n",
        "\n",
        "Maka mungkin kita akan melakukannya seperti ini:\n",
        "\n",
        "```\n",
        "String namaMahasiswa1 = \"Toni\";\n",
        "String namaMahasiswa2 = \"Santi\";\n",
        "String namaMahasiswa3 = \"Susan\";\n",
        "String namaMahasiswa4 = \"Joko\";\n",
        "String namaMahasiswa5 = \"Ayu\";\n",
        "```\n",
        "Masalahnya bagaimana kala datanya banyak, misalkan ada 100 data, pastinya capek donk membuat variabel sebanyak itu.\n",
        "\n",
        "Karena itu, kita bisa menyimpan itu semua dalam Array.\n",
        "\n",
        "**Apa itu Array?**\n",
        "\n",
        "Array adalah sebuah variabel yang bisa menyimpan banyak data dalam satu variabel.\n",
        "\n",
        "Array menggunakan indeks untuk memudahkan akses terhadap data yang disimpannya.\n",
        "\n",
        "maka visualisasi variable **namaMahasiswa** menjadi sebagai berikut: \n",
        "\n",
        "| Index 0 | Index 1 | Index 2 | Index 3 | Index 4 |\n",
        "|---|---|---|---|---|\n",
        "| Toni | Santi | Susan | Joko | Ayu |\n",
        "\n",
        "**Catatan**\n",
        "1. Indeks array selalu dimulai dari 0…\n",
        "2. indeks tidak selalu dalam bentuk angka. Bisa juga karakter atau teks.\n",
        "\n"
      ]
    },
    {
      "cell_type": "markdown",
      "metadata": {
        "id": "X4FYs0eONEiQ"
      },
      "source": [
        "## 9.3 Cara Membuat Array di Java\n",
        "Cara membuat array kosong di Java adalah sebagai berikut :\n",
        "\n",
        "```javascript\n",
        "// cara pertama\n",
        "    String[] nama;\n",
        "\n",
        "// cara kedua\n",
        "    String nama[];\n",
        "\n",
        "// cara ketiga dengan kata kunci new\n",
        "    String[] nama = new String[5];\n",
        "```\n",
        "**Catatan**\n",
        "\n",
        "1. Kita menggunakan kurung siku [] untuk membuat array;\n",
        "2. Kurung siku bisa diletakkan setelah tipe data atau nama array;\n",
        "3. Angka 5 dalam kurung artinya batas atau ukuran array-nya.\n",
        "\n"
      ]
    },
    {
      "cell_type": "markdown",
      "metadata": {
        "id": "vx99DqtIPEkE"
      },
      "source": [
        "## 9.4 Cara Pengisian Data\n",
        "Insisialisasi atau pengisian data array pada Java dilakukan sebagai berikut.\n",
        "\n",
        "\n",
        "```javascript\n",
        "namaMahasiswa[0] = \"Linda\";\n",
        "namaMahasiswa[1] = \"Santi\";\n",
        "namaMahasiswa[2] = \"Susan\";\n",
        "namaMahasiswa[3] = \"Mila\";\n",
        "namaMahasiswa[4] = \"Ayu\";\n",
        "```\n",
        "\n",
        "\n",
        "Cara ringkas dan tidak repot, kita bisa membuat array dan langsung mengisinya.\n",
        "```javascript\n",
        "String[] namaMahasiswa = {\"Linda\", \"Santi\", \"Susan\", \"Mila\", \"Ayu\"};\n",
        "```\n"
      ]
    },
    {
      "cell_type": "markdown",
      "metadata": {
        "id": "shIbBkjpovlt"
      },
      "source": [
        "##9.5 Mengambil Data dari Array\n",
        "Seperti yang sudah kita ketahui, array memiliki indeks untuk memudahkan kita mengakses datanya.\n",
        "\n",
        "Karena itu, kita bisa mengambil datanya dengan cara seperti ini:\n",
        "\n",
        "\n",
        "```javascript\n",
        "// membuat array\n",
        "String[] nama = {\"Linda\", \"Santi\", \"Susan\", \"Mila\", \"Ayu\"};\n",
        "// mengambil data array\n",
        "System.out.println(teman[2]);\n",
        "```\n",
        "maka hasil outputnya adalah sebagai berikut:\n",
        "\n",
        "\n",
        "```\n",
        "Susan\n",
        "```\n",
        "\n",
        "Karena *Susan* terletak di indeks ke-2."
      ]
    },
    {
      "cell_type": "markdown",
      "metadata": {
        "id": "f7eCe-JJpb3R"
      },
      "source": [
        "## 9.6 Menggunakan Perulangan\n",
        "Mengambil data satu per satu dari array sagatlah tidak efektif, karena kita harus mengetik ulang nama array-nya dengan indeks yang berbeda.\n",
        "\n",
        "Contoh:\n",
        "\n",
        "\n",
        "```javascript\n",
        "System.out.println(teman[0]);\n",
        "System.out.println(teman[1]);\n",
        "System.out.println(teman[2]);\n",
        "System.out.println(teman[3]);\n",
        "```\n",
        "\n",
        "Bagaimana jika data suatu array ada 1000 elemen, maka kita harus mengetik kode sebanyak seribu kali.\n",
        "\n",
        "Karena itu, disinilah peran perulangan.\n",
        "\n",
        "**Program 9.1** Array dengan perulangan\n",
        "```javascript\n",
        "String dataMahasiswa = {\"Dono\", \"Kasino\", \"Indro\", \"Nanu\", \"Rudi\"};\n",
        "\n",
        "for(int i = 0; i < dataMahasiswa.length; i++ )\n",
        "{\n",
        "  System.out.println(\"Indeks ke - \"+i+\" : \"+dataMahasiswa[i])\n",
        "}\n",
        "```\n",
        "\n"
      ]
    },
    {
      "cell_type": "code",
      "metadata": {
        "id": "2Z3StzAmTZb9"
      },
      "source": [
        "String dataMahasiswa ={\"Dono\",\"Kasino\",\"Indro\",\"Nanu\",\"Rudi\"};\n",
        "\n",
        "for(int i = 0; i < dataMahasiswa.length; i++ )\n",
        "{\n",
        "  System.out.println(\"Indeks ke - \"+i+\" : \"+dataMahasiswa[i])\n",
        "}"
      ],
      "execution_count": null,
      "outputs": []
    },
    {
      "cell_type": "markdown",
      "metadata": {
        "id": "macDbue6rgV0"
      },
      "source": [
        "## 9.7 Array Multi Dimensi\n",
        "Array multi dimensi artinya array yang memiliki lebih dari satu dimensi.\n",
        "\n",
        "Atau kita bisa sebut, array di dalam array.\n",
        "\n",
        "Jumlah dimensinya tidak terbatas, tergantung kita kebutuhan pengguna.\n",
        "\n",
        "Contoh berikut ini adalah array dua dimensi:\n",
        "\n",
        "\n",
        "```javascript\n",
        "String[][] kontak = {\n",
        "    {\"Lili\",\"08111\"},\n",
        "    {\"Lala\",\"08122\"},\n",
        "    {\"Maya\",\"08133\"}\n",
        "};\n",
        "# This is formatted as code\n",
        "```\n",
        "\n",
        "Indek ke-0 pada array kontak berisi array {\"Lili\",\"08111\"}.\n",
        "\n",
        "Indek ke-1 pada array kontak berisi array {\"Lala\",\"08122\"}.\n",
        "\n",
        "Indek ke-2 pada array kontak berisi array {\"Maya\",\"08111\"}.\n",
        "\n",
        "|  | 0 | 1 | \n",
        "|---|---|---|\n",
        "| 0 | \"Santi\" | \"9123\" |\n",
        "| 1 | \"Susan\" | \"9124\" |\n",
        "| 2 | \"Amir\" | \"9127\" |\n",
        "\n",
        "Berikut ini Contoh cara mengakses data dari suatu array dua dimensi:\n",
        "\n",
        "*Program 9.2* Program Array Multidimensi\n",
        "\n",
        "```javascript\n",
        "//inisialisasi array mulitidemensi\n",
        "String[][] kontak = {\n",
        "    {\"Lili\",\"08111\"},\n",
        "    {\"Lala\",\"08122\"},\n",
        "    {\"Maya\",\"08133\"}\n",
        "};\n",
        "\n",
        "      // menampilkan isi Array\n",
        "        System.out.println(\"-------------------------\");\n",
        "        for(int bar = 0; bar < kontak.length; bar++){\n",
        "            for(int kol = 0; kol < kontak[bar].length; kol++){\n",
        "                System.out.format(\"| %s \\t\", kontak[bar][kol]);\n",
        "            }\n",
        "            System.out.println(\"\");\n",
        "        }\n",
        "        System.out.println(\"-------------------------\");\n",
        "\n",
        "```"
      ]
    },
    {
      "cell_type": "code",
      "metadata": {
        "id": "84dEs57x9xdV",
        "colab": {
          "base_uri": "https://localhost:8080/"
        },
        "outputId": "c4ba67bc-8771-4eb3-ce0b-4d81a03a60d2"
      },
      "source": [
        "//inisialisasi array mulitidemensi\n",
        "String[][] kontak = {\n",
        "    {\"Lili\",\"08111\"},\n",
        "    {\"Lala\",\"08122\"},\n",
        "    {\"Maya\",\"08133\"}\n",
        "};\n",
        "\n",
        "      // menampilkan isi Array\n",
        "        System.out.println(\"-------------------------\");\n",
        "        for(int bar = 0; bar < kontak.length; bar++){\n",
        "            for(int kol = 0; kol < kontak[bar].length; kol++){\n",
        "                System.out.format(\"| %s \\t\", kontak[bar][kol]);\n",
        "            }\n",
        "            System.out.println(\"\");\n",
        "        }\n",
        "        System.out.println(\"-------------------------\");"
      ],
      "execution_count": null,
      "outputs": [
        {
          "output_type": "stream",
          "name": "stdout",
          "text": [
            "-------------------------\n",
            "| Lili \t| 08111 \t\n",
            "| Lala \t| 08122 \t\n",
            "| Maya \t| 08133 \t\n",
            "-------------------------\n"
          ]
        }
      ]
    },
    {
      "cell_type": "markdown",
      "metadata": {
        "id": "nKnnV9Qv9xdV"
      },
      "source": [
        ""
      ]
    },
    {
      "cell_type": "markdown",
      "metadata": {
        "id": "1BF-A0oPrBL_"
      },
      "source": [
        "## **Tugas VI**\n",
        "\n",
        "Ubahlah **Program 9.1** Array dengan perulangan menjadi array multidemensi dengan tampilan seperti berikut\n",
        "\n",
        "|  | Nama | Jenjang | Jurusan | \n",
        "|---|---|---|---|\n",
        "| 0 | \"Dono\" | \"?\" |\"?\" |\n",
        "| 1 | \"Kasino\" | \"?\" |\"?\" |\n",
        "\n",
        "Sesuaikan element nama seperti dalam program tersebut. Lengkapilah elemen lain untuk Jenjang dan Jurusan sesuai dengan kreativitas anda.\n"
      ]
    },
    {
      "cell_type": "code",
      "metadata": {
        "id": "L2yg_WPDznDg",
        "colab": {
          "base_uri": "https://localhost:8080/"
        },
        "outputId": "70eae27f-95d8-4dd6-828e-8207bebf7a54"
      },
      "source": [
        "//inisialisasi array mulitidemensi\n",
        "String[][] kontak = {\n",
        "    {\"Dono\",\"S1\",\"Informatika\"},\n",
        "    {\"Kasino\",\"S2\",\"Sistem\"}\n",
        "};\n",
        "\n",
        "      // menampilkan isi Array\n",
        "        System.out.println(\"-------------------------\");\n",
        "        for(int bar = 0; bar < kontak.length; bar++){\n",
        "            for(int kol = 0; kol < kontak[bar].length; kol++){\n",
        "                System.out.format(\"|%s\\t\",kontak[bar][kol]);\n",
        "            }\n",
        "            System.out.println(\"\");\n",
        "        }\n",
        "        System.out.println(\"-------------------------\");"
      ],
      "execution_count": null,
      "outputs": [
        {
          "output_type": "stream",
          "name": "stdout",
          "text": [
            "-------------------------\n",
            "|Dono\t|S1\t|Informatika\t\n",
            "|Kasino\t|S2\t|Sistem\t\n",
            "-------------------------\n"
          ]
        }
      ]
    },
    {
      "cell_type": "markdown",
      "metadata": {
        "id": "oQcUp680vy42"
      },
      "source": [
        "## Soal UTS \n",
        "\n",
        "Buatlah program tabel data 10 teman anda satu kelas yang merupakan implementasi array multidemensi dengan tampilan seperti berikut.\n",
        "\n",
        "|  | Nama | NIM | Jenis Kelamin | Kota Asal | \n",
        "|---|---|---|---|---|\n",
        "| 0 | \"?\" | \"?\" |\"?\" |\"?\" |\n"
      ]
    },
    {
      "cell_type": "code",
      "metadata": {
        "id": "Hjqvwrlj9xdX",
        "colab": {
          "base_uri": "https://localhost:8080/"
        },
        "outputId": "a2156bc9-a1ed-4b31-9c37-f1199052a113"
      },
      "source": [
        "//inisialisasi array mulitidemensi\n",
        "String[][] Identitas = {\n",
        "    {\"     Nama      \",\"   NIM  \",\"Jenis Kelamin\",\"  Kota Asal  \"},\n",
        "    {\"---------------------------------------------------------------------\"},\n",
        "    {\" Anang Hidayat \",\" 12201725\",\" Laki-laki\",\" Majalengka\"},\n",
        "    {\" Asyanti Fitri \",\" 12201724\",\" Perempuan\",\" Jakarta\"},\n",
        "    {\" Firdaus alkhaf \",\" 12201721\",\" Laki-laki\",\" Tegal\"},\n",
        "    {\" Miftahul Rizqi \",\" 12201727\",\" Laki-laki\",\" Brebes\"},\n",
        "    {\" Danang Saputra \",\" 12201726\",\" Laki-laki\",\" Yogyakarta\"},\n",
        "    {\" Agus Setiawan \",\" 12201729\",\" Laki-laki\",\" Lampung\"},\n",
        "    {\" Hafizah       \",\" 12201728\",\" Perempuan\",\" Padang\"},\n",
        "    {\" Yayu Andani   \",\" 12201730\",\" Perempuan\",\" Kuningan\"},\n",
        "    {\" Syifa Hernisa   \",\" 12201731\",\" Perempuan\",\" Sumedang\"},\n",
        "    {\" Syahrini Putri\",\" 12201723\",\" Perempuan\",\" Bogor  \"}\n",
        "};\n",
        "        \n",
        "      // menampilkan isi Array\n",
        "        System.out.println(\"-------------------------------------------------------------------------\");\n",
        "        for(int bar = 0; bar < Identitas.length; bar++){\n",
        "            for(int kol = 0; kol < Identitas[bar].length; kol++){\n",
        "                System.out.format(\"|%s\\t|\",Identitas[bar][kol]);\n",
        "            }\n",
        "            System.out.println(\"\");\n",
        "        }\n",
        "        System.out.println(\"-------------------------------------------------------------------------\");"
      ],
      "execution_count": 3,
      "outputs": [
        {
          "output_type": "stream",
          "name": "stdout",
          "text": [
            "-------------------------------------------------------------------------\n",
            "|     Nama      \t||   NIM  \t||Jenis Kelamin\t||  Kota Asal  \t|\n",
            "|---------------------------------------------------------------------\t|\n",
            "| Anang Hidayat \t|| 12201725\t|| Laki-laki\t|| Majalengka\t|\n",
            "| Asyanti Fitri \t|| 12201724\t|| Perempuan\t|| Jakarta\t|\n",
            "| Firdaus alkhaf \t|| 12201721\t|| Laki-laki\t|| Tegal\t|\n",
            "| Miftahul Rizqi \t|| 12201727\t|| Laki-laki\t|| Brebes\t|\n",
            "| Danang Saputra \t|| 12201726\t|| Laki-laki\t|| Yogyakarta\t|\n",
            "| Agus Setiawan \t|| 12201729\t|| Laki-laki\t|| Lampung\t|\n",
            "| Hafizah       \t|| 12201728\t|| Perempuan\t|| Padang\t|\n",
            "| Yayu Andani   \t|| 12201730\t|| Perempuan\t|| Kuningan\t|\n",
            "| Syifa Hernisa   \t|| 12201731\t|| Perempuan\t|| Sumedang\t|\n",
            "| Syahrini Putri\t|| 12201723\t|| Perempuan\t|| Bogor  \t|\n",
            "-------------------------------------------------------------------------\n"
          ]
        }
      ]
    }
  ]
}