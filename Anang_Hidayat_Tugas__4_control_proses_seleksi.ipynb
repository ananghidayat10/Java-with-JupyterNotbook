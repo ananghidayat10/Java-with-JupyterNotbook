{
  "nbformat": 4,
  "nbformat_minor": 0,
  "metadata": {
    "colab": {
      "name": "Anang Hidayat_Tugas_ 4_control_proses_seleksi.ipynb",
      "provenance": [],
      "collapsed_sections": [],
      "toc_visible": true
    },
    "kernelspec": {
      "display_name": "Java",
      "language": "java",
      "name": "java"
    },
    "language_info": {
      "codemirror_mode": "text/x-java",
      "file_extension": ".java",
      "mimetype": "",
      "name": "Java",
      "nbconverter_exporter": "",
      "version": "15.0.2"
    },
    "toc": {
      "base_numbering": 1,
      "nav_menu": {},
      "number_sections": false,
      "sideBar": false,
      "skip_h1_title": false,
      "title_cell": "Table of Contents",
      "title_sidebar": "Contents",
      "toc_cell": false,
      "toc_position": {},
      "toc_section_display": false,
      "toc_window_display": false
    }
  },
  "cells": [
    {
      "cell_type": "code",
      "metadata": {
        "id": "iikHUtEExLIP"
      },
      "source": [
        ""
      ],
      "execution_count": null,
      "outputs": []
    },
    {
      "cell_type": "markdown",
      "metadata": {
        "id": "bUB6YkbKzq6e"
      },
      "source": [
        "\n",
        "\n",
        "---\n",
        "\n"
      ]
    },
    {
      "cell_type": "markdown",
      "metadata": {
        "id": "7QbClP-5yKVi"
      },
      "source": [
        "#Petunjuk Penting !!\n",
        "\n",
        "## Lakukan Inisialisasi Java Kompailer untuk Google Colab\n",
        "Notebook ini menggunakan Java di Google Colaboratory sebagai kompailer. Untuk itu lakukan dua langkah dibawah ini sebelum anda bekerja dengan notebook ini\n",
        "\n",
        "1. Jalankan perintah pada cell diabawah ini (klik tombol run atau tekan tombol `Shift`+`Enter` secara bersamaan)"
      ]
    },
    {
      "cell_type": "code",
      "metadata": {
        "id": "lUr92Wb1yzXm",
        "colab": {
          "base_uri": "https://localhost:8080/"
        },
        "outputId": "caec2ac9-345e-4931-fe9e-0812de5eadf4"
      },
      "source": [
        "!apt update -q\n",
        "!apt-get install -q openjdk-11-jdk-headless\n",
        "!curl -L https://github.com/SpencerPark/IJava/releases/download/v1.3.0/ijava-1.3.0.zip -o ijava-kernel.zip\n",
        "!unzip -q ijava-kernel.zip -d ijava-kernel && cd ijava-kernel && python3 install.py --sys-prefix\n",
        "!jupyter kernelspec list"
      ],
      "execution_count": null,
      "outputs": [
        {
          "output_type": "stream",
          "name": "stdout",
          "text": [
            "Get:1 http://security.ubuntu.com/ubuntu bionic-security InRelease [88.7 kB]\n",
            "Ign:2 https://developer.download.nvidia.com/compute/cuda/repos/ubuntu1804/x86_64  InRelease\n",
            "Get:3 https://cloud.r-project.org/bin/linux/ubuntu bionic-cran40/ InRelease [3,626 B]\n",
            "Get:4 http://ppa.launchpad.net/c2d4u.team/c2d4u4.0+/ubuntu bionic InRelease [15.9 kB]\n",
            "Ign:5 https://developer.download.nvidia.com/compute/machine-learning/repos/ubuntu1804/x86_64  InRelease\n",
            "Get:6 https://developer.download.nvidia.com/compute/cuda/repos/ubuntu1804/x86_64  Release [696 B]\n",
            "Hit:7 http://archive.ubuntu.com/ubuntu bionic InRelease\n",
            "Hit:8 https://developer.download.nvidia.com/compute/machine-learning/repos/ubuntu1804/x86_64  Release\n",
            "Get:9 https://developer.download.nvidia.com/compute/cuda/repos/ubuntu1804/x86_64  Release.gpg [836 B]\n",
            "Get:10 http://archive.ubuntu.com/ubuntu bionic-updates InRelease [88.7 kB]\n",
            "Get:11 http://security.ubuntu.com/ubuntu bionic-security/main amd64 Packages [2,396 kB]\n",
            "Hit:12 http://ppa.launchpad.net/cran/libgit2/ubuntu bionic InRelease\n",
            "Get:13 http://security.ubuntu.com/ubuntu bionic-security/restricted amd64 Packages [630 kB]\n",
            "Get:14 http://security.ubuntu.com/ubuntu bionic-security/universe amd64 Packages [1,434 kB]\n",
            "Get:15 http://archive.ubuntu.com/ubuntu bionic-backports InRelease [74.6 kB]\n",
            "Get:16 http://ppa.launchpad.net/deadsnakes/ppa/ubuntu bionic InRelease [15.9 kB]\n",
            "Get:17 https://cloud.r-project.org/bin/linux/ubuntu bionic-cran40/ Packages [69.5 kB]\n",
            "Hit:18 http://ppa.launchpad.net/graphics-drivers/ppa/ubuntu bionic InRelease\n",
            "Get:20 https://developer.download.nvidia.com/compute/cuda/repos/ubuntu1804/x86_64  Packages [753 kB]\n",
            "Get:21 http://ppa.launchpad.net/c2d4u.team/c2d4u4.0+/ubuntu bionic/main Sources [1,810 kB]\n",
            "Get:22 http://archive.ubuntu.com/ubuntu bionic-updates/restricted amd64 Packages [665 kB]\n",
            "Get:23 http://archive.ubuntu.com/ubuntu bionic-updates/universe amd64 Packages [2,213 kB]\n",
            "Get:24 http://ppa.launchpad.net/c2d4u.team/c2d4u4.0+/ubuntu bionic/main amd64 Packages [926 kB]\n",
            "Get:25 http://archive.ubuntu.com/ubuntu bionic-updates/main amd64 Packages [2,835 kB]\n",
            "Get:26 http://ppa.launchpad.net/deadsnakes/ppa/ubuntu bionic/main amd64 Packages [45.3 kB]\n",
            "Fetched 14.1 MB in 4s (3,998 kB/s)\n",
            "Reading package lists...\n",
            "Building dependency tree...\n",
            "Reading state information...\n",
            "70 packages can be upgraded. Run 'apt list --upgradable' to see them.\n",
            "Reading package lists...\n",
            "Building dependency tree...\n",
            "Reading state information...\n",
            "openjdk-11-jdk-headless is already the newest version (11.0.11+9-0ubuntu2~18.04).\n",
            "0 upgraded, 0 newly installed, 0 to remove and 70 not upgraded.\n",
            "  % Total    % Received % Xferd  Average Speed   Time    Time     Time  Current\n",
            "                                 Dload  Upload   Total   Spent    Left  Speed\n",
            "100   623  100   623    0     0   5324      0 --:--:-- --:--:-- --:--:--  5324\n",
            "100 3287k  100 3287k    0     0  9105k      0 --:--:-- --:--:-- --:--:-- 9105k\n",
            "install.py:169: DeprecationWarning: replace is ignored. Installing a kernelspec always replaces an existing installation\n",
            "  replace=args.replace\n",
            "Installed java kernel into \"/usr/share/jupyter/kernels/java\"\n",
            "Available kernels:\n",
            "  ir         /usr/local/share/jupyter/kernels/ir\n",
            "  python2    /usr/local/share/jupyter/kernels/python2\n",
            "  python3    /usr/local/share/jupyter/kernels/python3\n",
            "  java       /usr/share/jupyter/kernels/java\n"
          ]
        }
      ]
    },
    {
      "cell_type": "markdown",
      "metadata": {
        "id": "05gvKabVzOQD"
      },
      "source": [
        "2. Kemudian refresh halaman notebook (page) (tekan tombol `F5`) atau that. atau tekan tombol refresh/reload. "
      ]
    },
    {
      "cell_type": "markdown",
      "metadata": {
        "id": "fizVCMLKzf8A"
      },
      "source": [
        "---\n"
      ]
    },
    {
      "cell_type": "markdown",
      "metadata": {
        "id": "VD3Bt8LiFs-E"
      },
      "source": [
        "# 6. Struktur Kontrol Percabangan\n",
        "\n",
        "## 6.1 Tujuan\n",
        "Pada pemrograman terstruktur, dimana setiap pernyataan dieksekusi setelah pernyataan sebelumnya sesuai dengan urutannya. Pada bagian ini, kita akan mempelajari tentang struktur kontrol dimana kita dapat mengubah cara eksekusi pada pernyataan yang dibuat di program kita.\n",
        "\n",
        "Pada akhir pembahasan, diharapkan pembaca dapat :\n",
        "\n",
        "1. Menggunakan struktur kontrol pemilihan denga **IF** yang digunakan untuk memilih blok kode yang akan dieksekusi\n",
        "\n",
        "2. Menggunakan struktur kontrol pemilihan denga **IF..ELSE** yang digunakan untuk memilih blok kode yang akan dieksekusi\n",
        "\n",
        "3. Menggunakan struktur kontrol pemilihan denga **SWITCH** yang digunakan untuk memilih blok kode yang akan dieksekusi\n"
      ]
    },
    {
      "cell_type": "markdown",
      "metadata": {
        "id": "iHDeARqlGviT"
      },
      "source": [
        "## 6.2 Struktur Kontrol Percabangan IF\n",
        "\n",
        "Struktur kontrol pemilihan adalah pernyataan dari Java yang mengijinkan user untuk memilih dan mengeksekusi blok kode spesifik dan mengabaikan blok kode yang lain.\n",
        "\n",
        "### 6.2.1 Statement if\n",
        "\n",
        "Pernyataan if akan menentukan sebuah pernyataan (atau blok kode) yang akan eksekusi jika dan hanya jika persyaratan bernilai benar(*true*).\n",
        "\n",
        "Bentuk dari pernyataan if,\n",
        "\n",
        "\n",
        "``` javascript\n",
        "if( boolean_expression )\n",
        "\n",
        "statement;\n",
        "```\n",
        "atau\n",
        "\n",
        "``` javascript\n",
        "if( boolean_expression ){\n",
        "\n",
        "  statement1;\n",
        "  statement2;\n",
        "  . . .\n",
        "}\n",
        "\n",
        "```\n",
        "dimana, *boolean_expression* adalah sebuah penyataan logika (*true/false*) atau variabel bertipe boolean.\n",
        "\n",
        "\n",
        "Berikut ini adalah potongan kode dari pernyataan if:\n",
        "``` javascript\n",
        "int grade = 68;\n",
        "\n",
        "if( grade > 60 ) System.out.println(\"Anda Lulus\");\n",
        "\n",
        "```\n",
        "\n",
        "atau\n",
        "``` javascript\n",
        "int grade = 68;\n",
        "\n",
        "if( grade > 60 ){\n",
        "\n",
        "    System.out.println(\"Selamat !\");\n",
        "    System.out.println(\"Anda Lulus!\");\n",
        "\n",
        "}\n",
        "```\n",
        "\n",
        "**Petunjuk Penulisan Program :**\n",
        "1.\t*Boolean_expression* pada pernyataan *if* harus merupakan nilai *boolean*).Hal ini berarti persyaratan harus bernilai *true* atau *false*.\n",
        "2.\tMasukkan statement di dalam blok *if*. Contohnya,\n",
        "\n",
        "```javascript\n",
        "if( boolean_expression ){\n",
        "    //statement1;\n",
        "    //statement2;\n",
        "}\n",
        "```\n",
        "\n",
        "Untuk berlatih lakukan eksekusi pada baris kode dibawah ini dengan menekan tombol >\n",
        "\n",
        "**Program 6.1** Program IF Sederhana\n"
      ]
    },
    {
      "cell_type": "code",
      "metadata": {
        "id": "Tun0_tSYPDA4",
        "colab": {
          "base_uri": "https://localhost:8080/"
        },
        "outputId": "c9129be6-cca9-4e20-aa36-dacf60045a29"
      },
      "source": [
        "//Program 6.1 Program IF Sederhana\n",
        "\n",
        "int grade = 68;\n",
        "\n",
        "if( grade > 60 ){\n",
        "\n",
        "    System.out.println(\"Selamat !\");\n",
        "    System.out.println(\"Anda Lulus!\");\n",
        "\n",
        "}"
      ],
      "execution_count": null,
      "outputs": [
        {
          "output_type": "stream",
          "name": "stdout",
          "text": [
            "Selamat !\n",
            "Anda Lulus!\n"
          ]
        }
      ]
    },
    {
      "cell_type": "markdown",
      "metadata": {
        "id": "nmaW25Rwuups"
      },
      "source": [
        "###6.2.2 Statement if-else\n",
        "\n",
        "Pernyataan *if-else* digunakan apabila kita ingin mengeksekusi beberapa pernyataan dengan kondisi **true** dan pernyataan yang lain dengan kondisi **false**.\n",
        "\n",
        "Bentuk statement *if-else*,\n",
        "\n",
        "\n",
        "```\n",
        "if( boolean_expression )\n",
        "\n",
        "  statement;\n",
        "\n",
        "else\n",
        "  statement;\n",
        "```\n",
        "dapat juga ditulis seperti,\n",
        "```javascript\n",
        "if( boolean_expression ){\n",
        "\n",
        "    statement1;\n",
        "    statement2;\n",
        "    . . .\n",
        "\n",
        "}\n",
        "else{\n",
        "    statement1;\n",
        "    statement2;\n",
        "    . . .\n",
        "}\n",
        "```\n",
        "Berikut ini contoh code statement if-else,\n",
        "```javascript\n",
        "int grade = 68;\n",
        "\n",
        "if( grade > 60 )\tSystem.out.println(\"Anda lulus!\");\n",
        "\n",
        "else\tSystem.out.println(\"maaf anda gagal\");\n",
        "```\n",
        "atau\n",
        "```javascript\n",
        "\n",
        "int grade = 68;\n",
        "\n",
        "if( grade > 60 ){\n",
        "\n",
        "    System.out.println(\"Selamat !\");\n",
        "    System.out.println(\"Anda lulus!\");\n",
        "}\n",
        "else{\n",
        "    System.out.println(\"Maaf \");\n",
        "    System.out.println(\"Anda Gagal!\");\n",
        "}\n",
        "```\n",
        "\n",
        "**Petunjuk Penulisan Program :**\n",
        "\n",
        "\n",
        "1.\tUntuk menghindari kebingungan, selalu letakkan sebuah pernyataan atau beberapa pernyataan di dalam blok *if-else* didalam tanda kurawal {},\n",
        "\n",
        "2.\tAnda dapat memiliki blok *if-else* yang bersarang(akan kita bahas pada sub bab berikutnya). Ini berarti anda dapat memiliki blok if-else yang lain di dalam blok *if-else*. Contohnya,\n",
        "\n",
        "```javascript\n",
        "if( boolean_expression ){\n",
        "     if( boolean_expression ){\n",
        "\n",
        "     . . .\n",
        "\n",
        "     }\n",
        "}\n",
        "else{\n",
        "    . . .\n",
        "}\n",
        "```\n",
        "\n",
        "Untuk berlatih lakukan eksekusi pada baris kode dibawah ini dengan menekan tombol >\n",
        "\n",
        "**Program 6.2** Program IF..ELSE\n"
      ]
    },
    {
      "cell_type": "code",
      "metadata": {
        "id": "L34e8a05QBwJ"
      },
      "source": [
        "//Program 6.2 Program IF..ELSE\n",
        "int grade = 68;\n",
        " \n",
        "if( grade > 60 ){\n",
        " \n",
        "    System.out.println(\"Selamat !\");\n",
        "    System.out.println(\"Anda lulus!\");\n",
        "}\n",
        "else{\n",
        "    System.out.println(\"Maaf \");\n",
        "    System.out.println(\"Anda Gagal!\");\n",
        "}"
      ],
      "execution_count": null,
      "outputs": []
    },
    {
      "cell_type": "markdown",
      "metadata": {
        "id": "IQF-QNbRw-8L"
      },
      "source": [
        "###6.2.3 Statement *if-else-if*\n",
        "\n",
        "Pernyataan pada bagian kondisi else dari blok *if-else* dapat menjadi struktur *if-else* yang lain. Kondisi struktur seperti ini mengijinkan kita untuk membuat seleksi persyaratan yang lebih kompleks.\n",
        "\n",
        "Bentuk statement *if-else if*,\n",
        "\n",
        "```javascript\n",
        "\n",
        "if( boolean_expression1 )\n",
        "\n",
        "statement1;\n",
        "else if( boolean_expression2 )\n",
        "\n",
        "statement2;\n",
        "else\n",
        "\n",
        "statement3;\n",
        "```\n",
        "\n",
        "> **Sebagai catatan:** anda dapat memiliki banyak blok *else-if* sesudah pernyataan if. Blok *else* bersifat opsional dan dapat dihilangkan. Pada contoh yang ditampilkan di atas, jika b*oolean_expression1* bernilai *true*, maka program akan mengeksekusi *statement1* dan melewati pernyataan yang lain. Jika *boolean_expression2* bernilai *true*, maka program akan mengeksekusi *statement2* dan melewati *statement3*.\n",
        "\n",
        "Berikut ini contoh code statement if-else-if\n",
        "\n",
        "**Program 6.3** Program IF-ELSE-IF\n",
        "\n",
        "```javascript\n",
        "        // membuat variabel dan scanner\n",
        "        int nilai;\n",
        "        String grade;\n",
        "        Scanner scan = new Scanner(System.in);\n",
        "\n",
        "        // mengambil input\n",
        "        System.out.print(\"Inputkan nilai: \");\n",
        "        nilai = scan.nextInt();\n",
        "\n",
        "        // higung gradenya\n",
        "        if ( nilai >= 90 ) {\n",
        "            grade = \"A\";\n",
        "        } else if ( nilai >= 80 ){\n",
        "            grade = \"B+\";\n",
        "        } else if ( nilai >= 70 ){\n",
        "            grade = \"B\";\n",
        "        } else if ( nilai >= 60 ){\n",
        "            grade = \"C+\";\n",
        "        } else if ( nilai >= 50 ){\n",
        "            grade = \"C\";\n",
        "        } else if ( nilai >= 40 ){\n",
        "            grade = \"D\";\n",
        "        } else {\n",
        "            grade = \"E\";\n",
        "        }\n",
        "\n",
        "        // cetak hasilnya\n",
        "        System.out.println(\"Grade: \" + grade);\n",
        "```\n",
        "\n",
        "Implementasikan kode **Program 6.3** Program IF-ELSE-IF pada cell kode dibawah ini, lakukan eksekusi kemudian amati proses yang terjadi\n",
        "\n"
      ]
    },
    {
      "cell_type": "code",
      "metadata": {
        "id": "1I7mdPYGQ94m"
      },
      "source": [
        "//Program 6.3 Program IF-ELSE-IF\n"
      ],
      "execution_count": null,
      "outputs": []
    },
    {
      "cell_type": "markdown",
      "metadata": {
        "id": "Vb1RwFfey36X"
      },
      "source": [
        "### 6.2.4 Kesalahan umum ketika menggunakan statement if-else:\n",
        "\n",
        "1. Kondisi pada statement *if* tidak mengevaluasi nilai logika *boolean*. Contoh kode dibawah ini dimana Variabel *number* tidak memiliki nilai *Boolean*. Contohnya :\n",
        "```javascript\n",
        "  //SALAH\n",
        "  int number = 0;\n",
        "  if( number ){\n",
        "\n",
        "    //some statements here\n",
        "  }\n",
        "```\n",
        "\n",
        "\n",
        "2.\tMenggunakan operator = sebagai operator perbandingan yang seharusnya adalah operator == . Contohnya,\n",
        "\n",
        "```javascript\n",
        "    //SALAH\n",
        "\n",
        "    int number = 0;\n",
        "    if( number = 0 ){\n",
        "       //Beberapa pernyataan\n",
        "\n",
        "    }\n",
        "```\n",
        "Seharusnya kode tersebut ditulis,\n",
        "```javascript\n",
        "//BENAR\n",
        "\n",
        "int number = 0;\n",
        "if( number == 0 ){\n",
        "\n",
        "//beberapa pernyataan\n",
        "\n",
        "}\n",
        "```\n",
        "3. Penulisan *elseif* yang seharusnya ditulis sebagai *else if*\n"
      ]
    },
    {
      "cell_type": "markdown",
      "metadata": {
        "id": "3zlALAGtzrIZ"
      },
      "source": [
        "###6.2.5 Statement Percabangan *if-else-else if*\n",
        "\n",
        "Jika percabangan IF-ESLE hanya memiliki dua pilihan saja. Maka percahangan IF-ELSE-IF memiliki lebih dari dua pilihan.\n",
        "\n",
        "Formatnya seperti ini:\n",
        "\n",
        "\n",
        "```javascript\n",
        "if (suatu kondisi) {\n",
        "    // maka kerjakan ini\n",
        "    // kerjakan perintah ini juga\n",
        "    // …\n",
        "} else if (kondisi lain) {\n",
        "    // kerjakan ini\n",
        "    // kerjakan ini juga\n",
        "    // …\n",
        "} else if (kondisi yang lain lagi) {\n",
        "    // kerjakan perintah ini\n",
        "    // kerjakan ini juga\n",
        "    // …\n",
        "} esle {\n",
        "    // kerjakan ini kalau\n",
        "    // semua kondisi di atas\n",
        "    // tidak ada yang benar\n",
        "    // …\n",
        "}\n",
        "```\n",
        "\n",
        "\n",
        "\n",
        "Berikut ini adalah kode penerapan percangan *if-else-else if*\n",
        "```javascript\n",
        "\n",
        "double grade = 92.0;\n",
        "\n",
        "if( grade >= 90 ){\n",
        "\n",
        "  System.out.println( \"Excellent!\" );\n",
        "}\n",
        "\n",
        "else if( (grade < 90) && (grade >= 80)){\n",
        "  System.out.println(\"Good job!\" );\n",
        "}\n",
        "\n",
        "else if( (grade < 80) && (grade >= 60)){ \n",
        "  System.out.println(\"Study harder!\" );\n",
        "\n",
        "}\n",
        "else{\n",
        "  System.out.println(\"Sorry, you failed.\");\n",
        "}\n",
        " \n",
        "```\n",
        "Implementasikan kode **Program 6.4** Program if-else-else if pada cell kode dibawah ini, lakukan eksekusi kemudian amati proses yang terjadi"
      ]
    },
    {
      "cell_type": "code",
      "metadata": {
        "id": "Th2sF2DgSMvt"
      },
      "source": [
        "//Program 6.4 Program if-else-else if"
      ],
      "execution_count": null,
      "outputs": []
    },
    {
      "cell_type": "markdown",
      "metadata": {
        "id": "KcZp1HtNlV_f"
      },
      "source": [
        "## 6.3. Statement *switch*\n",
        "\n",
        "Cara lain untuk membuat cabang adalah dengan menggunakan kata kunci **switch**.\n",
        "*Switch* mengkonstruksikan cabang untuk beberapa kondisi dari nilai.\n",
        "\n",
        "Bentuk statement* switch*,\n",
        "\n",
        "\n",
        "```javascript\n",
        "switch( switch_expression ){\n",
        "\n",
        "  case case_selector1:\n",
        "        statement1;\t//\n",
        "        statement2;\t//block 1\n",
        "        ...\t//\n",
        "        break;\n",
        "\n",
        "  case case_selector2:\n",
        "\n",
        "  statement1;\t//\n",
        "  statement2;\t//block 2\n",
        "        ...\t//\n",
        "        break;\n",
        "        . . .\n",
        "        default:\n",
        "  statement1;\t//\n",
        "  statement2;\t//block n\n",
        "        ...\t//\n",
        "        break;\n",
        "}\n",
        "\n",
        "```\n",
        "\n",
        "\n",
        "* *switch_expression* adalah ekspresi integer atau karakter dan *case_selector1, case_selector2* dan seterusnya adalah konstanta unik dari nilai integer atau karakter.\n",
        "\n",
        "* Ketika pernyataan *switch* ditemukan pada potongan kode program, java pertama kali akan memeriksa s *witch_expression*, dan menuju ke case yang akan menyamakan nilai yang dimiliki oleh *switch_expression*. \n",
        "\n",
        "* Selanjutnya program akan mengeksekusi pernyataan pada  kode setelah *case* yang ditemukan *switch_expression* akan dibandingkan dengan *case_selector1*. Jika bernilai *true* maka akan lakukan perintah yang ada pada di blok dibawah *case_selector1* yaitu *statement1; statement2;* Sampai menemui pernyataan *break*. \n",
        "\n",
        "* Sebaliknya jika perbandingan *switch_expression*  dengan *case_selector1* bernilai *false*, maka akan akan menuju ke *case* berikutnya yaitu *case_selector2* untuk diuji lagi sebagaima pada pengujian *case_selector1* \n",
        "\n",
        "* Selanjutnya akan mengabaikan pernyataan yang lainnya hingga akhir dari struktur dari pernyataan *switch*.\n",
        "\n",
        "* Jika tidak ditemui *case* yang cocok, maka program akan mengeksekusi blok *default*. Sebagai catatan, bahwa bagian blok *default* adalah **opsional**. Sebuah pernyataan *switch* bisa jadi tidak memiliki blok kode *default*.\n",
        "\n",
        "**Program 6.5** Program Percabangan Switch\n",
        "\n",
        "```javascript\n",
        "int grade = 92;\n",
        "\n",
        "switch(grade){\n",
        "\n",
        "  case 100:\n",
        "      System.out.println( \"Excellent!\" );\n",
        "      break;\n",
        "\n",
        "  case 90:\n",
        "      System.out.println(\"Good job!\" );\n",
        "      break;\n",
        "\n",
        "  case 80:\n",
        "      System.out.println(\"Study harder!\" );\n",
        "      break;\n",
        "  default:\n",
        "     System.out.println(\"Sorry, you failed.\");\n",
        "}\n",
        "\n",
        "```\n",
        "\n",
        "\n",
        "**CATATAN:**\n",
        "\n",
        "1. Tidak seperti pada pernyataan **if**, beberapa pernyataan pada struktur pernyataan *switch* akan dieksekusi tanpa memerlukan tanda kurung kurawal ({}).\n",
        "\n",
        "2. Ketika sebuah **case** pada pernyataan **switch** menemui kecocokan, semua pernyataan pada case tersebut akan dieksekusi. Tidak hanya demikian, pernyataan lain yang berada pada case yang sesuai juga akan dieksekusi.\n",
        "\n",
        "3. Untuk menghindari program mengeksekusi pernyataan pada case berikutnya, kita menggunakan pernyataan **break** sebagai pernyataan akhir pada setiap *blok case*.\n",
        "\n",
        "**Petunjuk Penulisan Program :**\n",
        "\n",
        "1.\tMenentukan penggunaan pernyataan **if** atau pernyataan **switch** adalah sebuah keputusan programmer. Programmer dapat menentukan pernyataan yang mana yang akan dipakai berdasarkan kemudahan membaca program dan faktor-faktor yang lain.\n",
        "2.\tPernyataan **if** dapat digunakan untuk membuat keputusan berdasarkan rentang nilai tertentu atau kondisi tertentu, sedangkan pernyataan **switch** membuat keputusan hanya berdasarkan nilai unik dari tipe integer atau karakter.\n",
        "\n",
        "Implementasikan kode **Program 6.5** Program Switch pada cell kode dibawah ini, lakukan eksekusi kemudian amati proses yang terjadi\n"
      ]
    },
    {
      "cell_type": "code",
      "metadata": {
        "id": "S3c8jRhGS1Cu",
        "colab": {
          "base_uri": "https://localhost:8080/",
          "height": 130
        },
        "outputId": "f5221c39-f958-4e5e-dd97-9fa29a550bfd"
      },
      "source": [
        "//Program 6.5 Program Switch\n",
        "int grade = 92;\n",
        " \n",
        "switch(grade){\n",
        " \n",
        "  case 100:\n",
        "      System.out.println( \"Excellent!\" );\n",
        "      break;\n",
        " \n",
        "  case 90:\n",
        "      System.out.println(\"Good job!\" );\n",
        "      break;\n",
        " \n",
        "  case 80:\n",
        "      System.out.println(\"Study harder!\" );\n",
        "      break;\n",
        "  default:\n",
        "     System.out.println(\"Sorry, you failed.\");\n",
        "}\n",
        " "
      ],
      "execution_count": null,
      "outputs": [
        {
          "output_type": "error",
          "ename": "SyntaxError",
          "evalue": "ignored",
          "traceback": [
            "\u001b[0;36m  File \u001b[0;32m\"<ipython-input-1-107498578233>\"\u001b[0;36m, line \u001b[0;32m1\u001b[0m\n\u001b[0;31m    (/Program, 6.5, Program, Switch)\u001b[0m\n\u001b[0m     ^\u001b[0m\n\u001b[0;31mSyntaxError\u001b[0m\u001b[0;31m:\u001b[0m invalid syntax\n"
          ]
        }
      ]
    },
    {
      "cell_type": "markdown",
      "metadata": {
        "id": "ypStcsl64Sjr"
      },
      "source": [
        "## 6.3 Percabangan dalam Percabangan (*Nested*)\n",
        "\n",
        "Kita sudah dua bentuk dasar percabanganan di Java. Selanjutnya, kita coba bahas percabangan yang ada di dalam perbangan atau percabangan bersarang (*nested*).\n",
        "\n",
        "Pernyataan *if* bersarang atau nested *if* adalah pernyataan *if* atau *if-else* yang berada dalam pernyataan *if* atau *if-else* lainnya.\n",
        "\n",
        "Hal yang juga menarik adalah, *if* yang bersarang tersebut juga dapat memiliki pernyataan *if* lainnya yang bersarang atau di dalam blok *if* tersebut, sehingga faktanya tidak ada batasan mengenai jumlah maksimum untuk nested *if* ini\n",
        "\n",
        "*Nested if *banyak digunakan untuk mengimpelementasikan aksi multi alternatif.\n",
        "\n",
        "Berikut ini adalah contoh algoritma *pseudocode* dari sebuah *nested if* atau percabangan bersarang \n",
        "```\n",
        "IF a > b THEN\n",
        "  IF a > c THEN\n",
        "    Cetak a\n",
        "  ELSE\n",
        "    Cetak c\n",
        "  ENDIF\n",
        "ELSE IF b > c THEN\n",
        "  Cetak b\n",
        "ELSE IF c > d THEN\n",
        "  Cetak a\n",
        "  Cetak b\n",
        "ELSE\n",
        "  Cetak c\n",
        "  Cetak b\n",
        "ENDIF\n",
        "```\n",
        "Berikut ini adalah contoh program penggunaan percabangan bersarang \n",
        "\n",
        "**Program 6.6** Program Nested IF\n",
        "\n",
        "```javascript\n",
        "  int batas_umur = 17;\n",
        "  int umur_anda = 19;\n",
        "  boolean punya_sim = true;\n",
        "  if(umur_anda > batas_umur){\n",
        "      if (punya_sim){\n",
        "          System.out.println(\"Umur sudah cukup umur\");\n",
        "          System.out.println(\"Anda boleh mengendarai motor\");\n",
        "       }else{\n",
        "           System.out.println(\"Umur sudah cukup umur\");\n",
        "          System.out.println(\"Anda tidak boleh mengendarai motor\");        \n",
        "       }\n",
        "  else{\n",
        "       System.out.println(\"Tidak cukup umur\");\n",
        "  }\n",
        "```\n",
        "Implementasikan kode **Program 6.6** Program Nested IF pada cell kode dibawah ini, lakukan eksekusi kemudian amati proses yang terjadi\n",
        "\n"
      ]
    },
    {
      "cell_type": "code",
      "metadata": {
        "id": "2Z3StzAmTZb9"
      },
      "source": [
        "//Program 6.6 Program Nested IF"
      ],
      "execution_count": null,
      "outputs": []
    },
    {
      "cell_type": "markdown",
      "metadata": {
        "id": "1BF-A0oPrBL_"
      },
      "source": [
        "## **Tugas VI**\n",
        "\n",
        "berikut ini model bisinis seperti ini di sebuah toko. Ketika orang membayar di kasir, akan ditanya ada kartu member untuk mendapatkan diskon. Berikut ini algoritma  *pseudocode* yang di terapakan\n",
        "\n",
        "```\n",
        "Apakah pembeli member?\n",
        "   - jika member\n",
        "        - Jenis Member Apakah?\n",
        "\t\t   - Jika Siver \n",
        "\t\t\t\t* Apakah belanjaan anda lebih dari 100rb?\n",
        "\t\t\t\t   # Jika ya : mendapatkan diskon 10rb\n",
        "\t\t\t   * Apakah belanjaan anda lebih dari 500rb?\n",
        "\t\t\t\t   # Jika ya : mendapatkan diskon 20rb\n",
        "\t\t   - Jika Gold\n",
        "\t\t\t\t* Apakah belanjaan anda lebih dari 100rb?\n",
        "\t\t\t\t   # Jika ya : mendapatkan diskon 15rb\n",
        "\t\t\t   * Apakah belanjaan anda lebih dari 500rb?\n",
        "\t\t\t\t   # Jika ya : mendapatkan diskon 25rb\n",
        "\t\t   - Jika Platinum\n",
        "\t\t\t\t* Apakah belanjaan anda lebih dari 100rb?\n",
        "\t\t\t\t   # Jika ya : mendapatkan diskon 20rb\n",
        "\t\t\t   * Apakah belanjaan anda lebih dari 500rb?\n",
        "\t\t\t\t   # Jika ya : mendapatkan diskon 35rb\n",
        "   - jika tidak member\n",
        "       * Apakah belanjaan anda lebih dari 100rb?\n",
        "           # ya : mendapatkan diskon 5rb\n",
        "           # tidak: tidak mendapatkan diskon\n",
        "```\n",
        "\n",
        "\n",
        "\n",
        "**No. 1**\n",
        "\n",
        "Implementasikan  *pseudocode* diatas dengan percabangan kontrol *if*? \n",
        "\n"
      ]
    },
    {
      "cell_type": "code",
      "metadata": {
        "id": "L2yg_WPDznDg",
        "colab": {
          "base_uri": "https://localhost:8080/"
        },
        "outputId": "7a9648e3-cf75-4944-ef4e-564a64da839b"
      },
      "source": [
        "    int discount = 0;\n",
        "    int uangBelanja= 150000;\n",
        "    String Typemember= \"Gold\";\n",
        "    boolean member= true;\n",
        "    int totalBayar;\n",
        "\n",
        "    if(member){\n",
        "      if(Typemember==\"Silver\"){\n",
        "        if(uangBelanja > 500000){\n",
        "          discount = 20000;\n",
        "    }else if(uangBelanja > 100000){\n",
        "      discount = 10000;\n",
        "      }\n",
        "    }else if(Typemember==\"Gold\"){\n",
        "      if(uangBelanja > 500000){\n",
        "        discount = 25000;\n",
        "      }else if(uangBelanja > 100000){\n",
        "        discount = 15000;\n",
        "      }\n",
        "    }else if (Typemember==\"Platinum\"){\n",
        "      if(uangBelanja > 500000){\n",
        "        discount = 35000;\n",
        "      }else if(uangBelanja > 100000){\n",
        "        discount = 20000;\n",
        "      }\n",
        "    }\n",
        "    }else{\n",
        "    if(Typemember==\"\"){\n",
        "      if(uangBelanja>100000){\n",
        "        discount = 5000;\n",
        "        }\n",
        "      }\n",
        "    }\n",
        "    totalBayar=uangBelanja-discount;\n",
        "    double totalBayarDouble = totalBayar;\n",
        "    System.out.println(\"Total Belanja            : Rp.\" + uangBelanja);\n",
        "    System.out.println(\"Type Member              : \" + Typemember);\n",
        "    System.out.println(\"Anda mendapatkan dicount : Rp.\" + discount );\n",
        "    System.out.println(\"Total Bayar              : Rp.\" + totalBayar);"
      ],
      "execution_count": 37,
      "outputs": [
        {
          "output_type": "stream",
          "name": "stdout",
          "text": [
            "Total Belanja            : Rp.150000\n",
            "Type Member              : Gold\n",
            "Anda mendapatkan dicount : Rp.15000\n",
            "Total Bayar              : Rp.135000\n"
          ]
        }
      ]
    },
    {
      "cell_type": "markdown",
      "metadata": {
        "id": "cdgrSjRr0Eq5"
      },
      "source": [
        "**No. 2**\n",
        "\n",
        "Implementasikan  *pseudocode* diatas dengan percabangan kontrol *switch*? "
      ]
    },
    {
      "cell_type": "code",
      "metadata": {
        "id": "qnnQqrF05px3",
        "colab": {
          "base_uri": "https://localhost:8080/"
        },
        "outputId": "4f4f0b59-5c0d-4fdb-e5da-daf39292db1f"
      },
      "source": [
        "    int discount = 0;\n",
        "    int uangBelanja= 150000;\n",
        "    String Typemember= \"Gold\";\n",
        "    boolean member= true;\n",
        "    int totalBayar;\n",
        "\n",
        "    if(member){\n",
        "      switch(Typemember){\n",
        "    case \"Silver\":\n",
        "        if(uangBelanja > 500000){\n",
        "          discount = 20000;\n",
        "    }else if(uangBelanja > 100000){\n",
        "      discount = 10000;\n",
        "      }\n",
        "      break;\n",
        "    case \"Gold\":\n",
        "      if(uangBelanja > 500000){\n",
        "        discount = 25000;\n",
        "      }else if(uangBelanja > 100000){\n",
        "        discount = 15000;\n",
        "      }\n",
        "      break;\n",
        "    case \"Platinum\" :\n",
        "      if(uangBelanja > 500000){\n",
        "        discount = 35000;\n",
        "      }else if(uangBelanja > 100000){\n",
        "        discount = 20000;\n",
        "      }\n",
        "      break;\n",
        "      }\n",
        "    }else {\n",
        "      if(uangBelanja>100000){\n",
        "        discount = 5000;\n",
        "      }\n",
        "    }\n",
        "    totalBayar=uangBelanja-discount;\n",
        "    double totalBayarDouble = totalBayar;\n",
        "    System.out.println(\"Total Belanja            : Rp.\" + uangBelanja);\n",
        "    System.out.println(\"Type Member              : \" + Typemember);\n",
        "    System.out.println(\"Anda mendapatkan dicount : Rp.\" + discount );\n",
        "    System.out.println(\"Total Bayar              : Rp.\" + totalBayar);"
      ],
      "execution_count": 14,
      "outputs": [
        {
          "output_type": "stream",
          "name": "stdout",
          "text": [
            "Total Belanja            : Rp.150000\n",
            "Type Member              : Gold\n",
            "Anda mendapatkan dicount : Rp.15000\n",
            "Total Bayar              : Rp.135000\n"
          ]
        }
      ]
    },
    {
      "cell_type": "markdown",
      "metadata": {
        "id": "zT6nxQWwvlLR"
      },
      "source": [
        "## Soal UTS"
      ]
    },
    {
      "cell_type": "markdown",
      "metadata": {
        "id": "oQcUp680vy42"
      },
      "source": [
        "-- Tidak Ada Soal-"
      ]
    }
  ]
}