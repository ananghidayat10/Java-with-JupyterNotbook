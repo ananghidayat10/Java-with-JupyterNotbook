{
  "nbformat": 4,
  "nbformat_minor": 0,
  "metadata": {
    "colab": {
      "name": "Anang Hidayat_Tugas_ 5_control_proses_loop.ipynb",
      "provenance": [],
      "collapsed_sections": [],
      "toc_visible": true
    },
    "kernelspec": {
      "display_name": "Java",
      "language": "java",
      "name": "java"
    },
    "language_info": {
      "codemirror_mode": "text/x-java",
      "file_extension": ".java",
      "mimetype": "",
      "name": "Java",
      "nbconverter_exporter": "",
      "version": "15.0.2"
    },
    "toc": {
      "base_numbering": 1,
      "nav_menu": {},
      "number_sections": false,
      "sideBar": false,
      "skip_h1_title": false,
      "title_cell": "Table of Contents",
      "title_sidebar": "Contents",
      "toc_cell": false,
      "toc_position": {},
      "toc_section_display": false,
      "toc_window_display": false
    }
  },
  "cells": [
    {
      "cell_type": "code",
      "metadata": {
        "id": "iikHUtEExLIP"
      },
      "source": [
        ""
      ],
      "execution_count": null,
      "outputs": []
    },
    {
      "cell_type": "markdown",
      "metadata": {
        "id": "bUB6YkbKzq6e"
      },
      "source": [
        "\n",
        "\n",
        "---\n",
        "\n"
      ]
    },
    {
      "cell_type": "markdown",
      "metadata": {
        "id": "7QbClP-5yKVi"
      },
      "source": [
        "#Petunjuk Penting !!\n",
        "\n",
        "## Lakukan Inisialisasi Java Kompailer untuk Google Colab\n",
        "Notebook ini menggunakan Java di Google Colaboratory sebagai kompailer. Untuk itu lakukan dua langkah dibawah ini sebelum anda bekerja dengan notebook ini\n",
        "\n",
        "1. Jalankan perintah pada cell diabawah ini (klik tombol run atau tekan tombol `Shift`+`Enter` secara bersamaan)"
      ]
    },
    {
      "cell_type": "code",
      "metadata": {
        "id": "lUr92Wb1yzXm",
        "colab": {
          "base_uri": "https://localhost:8080/"
        },
        "outputId": "97178c1b-5c08-41b7-cb93-b722195f34d8"
      },
      "source": [
        "!apt update -q\n",
        "!apt-get install -q openjdk-11-jdk-headless\n",
        "!curl -L https://github.com/SpencerPark/IJava/releases/download/v1.3.0/ijava-1.3.0.zip -o ijava-kernel.zip\n",
        "!unzip -q ijava-kernel.zip -d ijava-kernel && cd ijava-kernel && python3 install.py --sys-prefix\n",
        "!jupyter kernelspec list"
      ],
      "execution_count": null,
      "outputs": [
        {
          "output_type": "stream",
          "name": "stdout",
          "text": [
            "Get:1 http://security.ubuntu.com/ubuntu bionic-security InRelease [88.7 kB]\n",
            "Get:2 https://cloud.r-project.org/bin/linux/ubuntu bionic-cran40/ InRelease [3,626 B]\n",
            "Ign:3 https://developer.download.nvidia.com/compute/cuda/repos/ubuntu1804/x86_64  InRelease\n",
            "Get:4 http://ppa.launchpad.net/c2d4u.team/c2d4u4.0+/ubuntu bionic InRelease [15.9 kB]\n",
            "Ign:5 https://developer.download.nvidia.com/compute/machine-learning/repos/ubuntu1804/x86_64  InRelease\n",
            "Hit:6 http://archive.ubuntu.com/ubuntu bionic InRelease\n",
            "Get:7 https://developer.download.nvidia.com/compute/cuda/repos/ubuntu1804/x86_64  Release [696 B]\n",
            "Hit:8 https://developer.download.nvidia.com/compute/machine-learning/repos/ubuntu1804/x86_64  Release\n",
            "Get:9 https://developer.download.nvidia.com/compute/cuda/repos/ubuntu1804/x86_64  Release.gpg [836 B]\n",
            "Get:10 http://archive.ubuntu.com/ubuntu bionic-updates InRelease [88.7 kB]\n",
            "Get:11 http://security.ubuntu.com/ubuntu bionic-security/main amd64 Packages [2,396 kB]\n",
            "Hit:12 http://ppa.launchpad.net/cran/libgit2/ubuntu bionic InRelease\n",
            "Get:13 http://security.ubuntu.com/ubuntu bionic-security/universe amd64 Packages [1,434 kB]\n",
            "Get:14 http://security.ubuntu.com/ubuntu bionic-security/restricted amd64 Packages [630 kB]\n",
            "Get:15 http://archive.ubuntu.com/ubuntu bionic-backports InRelease [74.6 kB]\n",
            "Get:16 https://cloud.r-project.org/bin/linux/ubuntu bionic-cran40/ Packages [69.5 kB]\n",
            "Get:18 https://developer.download.nvidia.com/compute/cuda/repos/ubuntu1804/x86_64  Packages [753 kB]\n",
            "Get:19 http://archive.ubuntu.com/ubuntu bionic-updates/main amd64 Packages [2,835 kB]\n",
            "Get:20 http://archive.ubuntu.com/ubuntu bionic-updates/restricted amd64 Packages [665 kB]\n",
            "Get:21 http://archive.ubuntu.com/ubuntu bionic-updates/universe amd64 Packages [2,213 kB]\n",
            "Hit:22 http://ppa.launchpad.net/deadsnakes/ppa/ubuntu bionic InRelease\n",
            "Hit:23 http://ppa.launchpad.net/graphics-drivers/ppa/ubuntu bionic InRelease\n",
            "Get:24 http://ppa.launchpad.net/c2d4u.team/c2d4u4.0+/ubuntu bionic/main Sources [1,809 kB]\n",
            "Get:25 http://ppa.launchpad.net/c2d4u.team/c2d4u4.0+/ubuntu bionic/main amd64 Packages [926 kB]\n",
            "Fetched 14.0 MB in 4s (3,256 kB/s)\n",
            "Reading package lists...\n",
            "Building dependency tree...\n",
            "Reading state information...\n",
            "68 packages can be upgraded. Run 'apt list --upgradable' to see them.\n",
            "Reading package lists...\n",
            "Building dependency tree...\n",
            "Reading state information...\n",
            "openjdk-11-jdk-headless is already the newest version (11.0.11+9-0ubuntu2~18.04).\n",
            "0 upgraded, 0 newly installed, 0 to remove and 68 not upgraded.\n",
            "  % Total    % Received % Xferd  Average Speed   Time    Time     Time  Current\n",
            "                                 Dload  Upload   Total   Spent    Left  Speed\n",
            "100   623  100   623    0     0   7244      0 --:--:-- --:--:-- --:--:--  7244\n",
            "100 3287k  100 3287k    0     0  16.4M      0 --:--:-- --:--:-- --:--:-- 16.4M\n",
            "install.py:169: DeprecationWarning: replace is ignored. Installing a kernelspec always replaces an existing installation\n",
            "  replace=args.replace\n",
            "Installed java kernel into \"/usr/share/jupyter/kernels/java\"\n",
            "Available kernels:\n",
            "  ir         /usr/local/share/jupyter/kernels/ir\n",
            "  python2    /usr/local/share/jupyter/kernels/python2\n",
            "  python3    /usr/local/share/jupyter/kernels/python3\n",
            "  java       /usr/share/jupyter/kernels/java\n"
          ]
        }
      ]
    },
    {
      "cell_type": "markdown",
      "metadata": {
        "id": "05gvKabVzOQD"
      },
      "source": [
        "2. Kemudian refresh halaman notebook (page) (tekan tombol `F5`) atau that. atau tekan tombol refresh/reload. "
      ]
    },
    {
      "cell_type": "markdown",
      "metadata": {
        "id": "fizVCMLKzf8A"
      },
      "source": [
        "---\n"
      ]
    },
    {
      "cell_type": "markdown",
      "metadata": {
        "id": "VD3Bt8LiFs-E"
      },
      "source": [
        "# 7. Struktur Kontrol Perulangan\n",
        "\n",
        "## 7.1 Tujuan\n",
        "Pada pemrograman terstruktur, dimana setiap pernyataan dieksekusi setelah pernyataan sebelumnya sesuai dengan urutannya. Pada bagian ini, kita akan mempelajari tentang struktur kontrol dimana kita dapat mengubah cara eksekusi pada pernyataan yang dibuat di program kita.\n",
        "\n",
        "Pada akhir pembahasan, diharapkan pembaca dapat :\n",
        "\n",
        "1. Menggunakan struktur kontrol pengulangan (*while, do-while, for*) untuk mengeksekusi blok tertentu pada program beberapa kali.\n",
        "\n",
        "2. Menggunakan pernyataan-pernyataan percabangan (*break, continue, return*) yang digunakan untuk mengatur arah dari aliran program.\n",
        "\n"
      ]
    },
    {
      "cell_type": "markdown",
      "metadata": {
        "id": "RnRRueSnWA_L"
      },
      "source": [
        "##7.2 Struktur Kontrol Perulangan While...loop\n",
        "\n",
        "Struktur kontrol pengulangan adalah berupa pernyataan dari Java yang mengijinkan kita untuk mengeksekusi blok code berulang-ulang sesuai dengan jumlah tertentu yang diinginkan. Ada tiga macam jenis dari struktur kontrol pengulangan yaitu *while, do-while,* dan *for-loops*.\n",
        "\n",
        "###7.2.1 Struktur Perulangan while..loop\n",
        "\n",
        "Pernyataan while loop adalah pernyataan atau blok pernyataan yang diulang-ulang sampai mencapai kondisi yang cocok.\n",
        "\n",
        "Bentuk pernyataan while,\n",
        "``` javascript\n",
        "  while( boolean_expression ){\n",
        "\n",
        "    statement1;\n",
        "    statement2;\n",
        "    . . .\n",
        "\n",
        "  }\n",
        "```\n",
        "Pernyataan di dalam while loop akan dieksekusi berulang-ulang selama kondisi boolean_expression bernilai benar (true).\n",
        "\n",
        "Contoh, pada kode dibawah ini,\n",
        "``` javascript\n",
        "int i = 4;\n",
        "\n",
        "while ( i > 0 ){\n",
        "\n",
        "  System.out.print(i);\n",
        "  i--;\n",
        "\n",
        "}\n",
        "``` \n",
        "Contoh diatas akan mencetak angka 4 3 2 1 pada layar.\n",
        "\n",
        "Perlu dicatat jika bagian i--; dihilangkan, akan menghasilkan pengulangan yang terus menerus (*infinite loop*). \n",
        "\n",
        "Sehingga, ketika menggunakan while loop atau bentuk pengulangan yang lain, pastikan Anda memberikan pernyataan yang membuat pengulangan berhenti pada suatu kondisi.\n",
        "\n"
      ]
    },
    {
      "cell_type": "markdown",
      "metadata": {
        "id": "UVlhlVwtkIfk"
      },
      "source": [
        "###7.2.2 Contoh I Perulangan while..loop \n",
        "Contoh perulangan ini dapat melakukan perulangan dengan *counted loop*.\n",
        "``` javascript\n",
        "int x = 0;\n",
        "while (x<10)\n",
        "{\n",
        "System.out.println(x);\n",
        "x++;\n",
        "}\n",
        "```\n"
      ]
    },
    {
      "cell_type": "markdown",
      "metadata": {
        "id": "YKET8uWVkOEf"
      },
      "source": [
        "###7.2.3 Contoh II Perulangan infinite while..loop \n",
        "\n",
        "**Bentuk 1**\n",
        "``` javascript\n",
        "//infinite loop\n",
        "while(true){\n",
        "\n",
        "    System.out.println(\"hello\");\n",
        "\n",
        "}\n",
        "```\n",
        ">**Catatan**: pastikan melakukan increment (i++) terhadap variabel counter. Karena kalau tidak, perulangannya akan terus-menerus dilakukan sampai komputernya hang.\n",
        "\n",
        "**Bentuk 2**\n",
        "\n",
        "``` javascript\n",
        "// statement is not even executed\n",
        "\n",
        "while (false)\n",
        "{\n",
        "    System.out.println(\"hello\");\n",
        "}\n",
        "```\n",
        "**Penjelasan:**\n",
        "\n",
        "* kondisi bisa kita isi dengan perbandingan maupun variabel boolean. Kondisi ini hanya memiliki nilai true dan flase.\n",
        "* Perulangan while akan berhenti sampai kondisi bernilai false.\n",
        "\n",
        "``` javascript\n",
        "       // membuat variabel dan scanner\n",
        "        boolean ulangi = true;\n",
        "        int counter = 0;\n",
        "        String jawab;\n",
        "        Scanner scan = new Scanner(System.in);\n",
        "\n",
        "        while( ulangi ) {\n",
        "            System.out.println(\"Apakah anda ingin keluar?\");\n",
        "            System.out.print(\"Jawab [ya/tidak]> \");\n",
        "\n",
        "            jawab = scan.nextLine();\n",
        "\n",
        "            // cek jawabnnya, kalau ya maka berhenti mengulang\n",
        "            if( jawab.equalsIgnoreCase(\"ya\") ){\n",
        "                ulangi = false;\n",
        "            }\n",
        "\n",
        "            counter++;\n",
        "        }\n",
        "\n",
        "        System.out.println(\"Perulangan yang dilakukan sebanyak \" + counter + \" kali\");\n",
        "```"
      ]
    },
    {
      "cell_type": "code",
      "metadata": {
        "id": "2Z3StzAmTZb9",
        "colab": {
          "base_uri": "https://localhost:8080/"
        },
        "outputId": "fa08b539-7835-4bc6-a3f6-33d84dc05e07"
      },
      "source": [
        "  // membuat variabel dan scanner\n",
        "        boolean ulangi = true;\n",
        "        int counter = 0;\n",
        "        String jawab;\n",
        "        Scanner scan = new Scanner(System.in);\n",
        "\n",
        "        while( ulangi ) {\n",
        "            System.out.println(\"Apakah anda ingin keluar?\");\n",
        "            System.out.print(\"Jawab [ya/tidak]> \");\n",
        "\n",
        "            jawab = scan.nextLine();\n",
        "\n",
        "            // cek jawabnnya, kalau ya maka berhenti mengulang\n",
        "            if( jawab.equalsIgnoreCase(\"ya\") ){\n",
        "                ulangi = false;\n",
        "            }\n",
        "\n",
        "            counter++;\n",
        "        }\n",
        "\n",
        "        System.out.println(\"Perulangan yang dilakukan sebanyak \" + counter + \" kali\");"
      ],
      "execution_count": null,
      "outputs": [
        {
          "output_type": "stream",
          "name": "stdout",
          "text": [
            "Apakah anda ingin keluar?\n",
            "Jawab [ya/tidak]> "
          ]
        }
      ]
    },
    {
      "cell_type": "markdown",
      "metadata": {
        "id": "i54KKvDl05xi"
      },
      "source": [
        "##7.3 Struktur Kontrol Perulangan do...while loop\n",
        "\n",
        "Cara kerja perulangan Do/While sebenarnya sama seperti perulangan While.\n",
        "\n",
        "Bedanya, Do/While melakukan satu kali perulangan dulu. Kemudian mengecek kondisinya.\n",
        "\n",
        " Pernyataan di dalam do-while loop akan dieksekusi beberapa kali selama kondisi bernilai benar(true).\n",
        "\n",
        "Perbedaan antara while dan do-while loop adalah dimana pernyataan di dalam do-while loop akan dieksekusi sedikitnya satu kali.\n",
        "\n",
        "Struktur penulisannya seperti ini:\n",
        "``` javascript\n",
        "do {\n",
        "    // blok kode yang akan diulang\n",
        "    ..............\n",
        "} while (kondisi);\n",
        "```\n",
        "Jadi kerjakan dulu **(Do)**, baru di cek kondisinya **while( kondisi )**. Kalau kondisi bernilai ture, maka lanjutkan perulangan.\n",
        "\n",
        "``` javascript\n",
        "        // inisialisasi variabel\n",
        "        int i = 0;\n",
        "\n",
        "        do {\n",
        "            System.out.println(\"perulangan ke-\" + i);\n",
        "            i++;\n",
        "        } while ( i <= 10);\n",
        "```"
      ]
    },
    {
      "cell_type": "code",
      "metadata": {
        "id": "qJQ4qz-12cEd"
      },
      "source": [
        "  // inisialisasi variabel\n",
        "        int i = 0;\n",
        "\n",
        "        do {\n",
        "            System.out.println(\"perulangan ke-\" + i);\n",
        "            i++;\n",
        "        } while ( i <= 10);\n"
      ],
      "execution_count": null,
      "outputs": []
    },
    {
      "cell_type": "markdown",
      "metadata": {
        "id": "RcbPuR103aus"
      },
      "source": [
        "##7.4 Perulangan For\n",
        "\n",
        "Pernyataan for loop memiliki kondisi hampir mirip seperti struktur pengulangan sebelumnya yaitu melakukan pengulangan untuk mengeksekusi kode yang sama sebanyak jumlah yang telah ditentukan.\n",
        "\n",
        "Bentuk dari for loop,\n",
        "``` javascript\n",
        "for (InitializationExpression; LoopCondition; StepExpression){ statement1;\n",
        "    statement2;\n",
        "    . . .\n",
        "\n",
        "}\n",
        "```\n",
        "Dengan penjelasan sebagai berikut.\n",
        "* InitializationExpression – inisialisasi dari variabel loop.\n",
        "* LoopCondition - membandingkan variabel loop pada nilai batas tertentu. \n",
        "*StepExpression\t- melakukan update pada variabel loop.\n",
        "\n",
        "Berikut ini adalah contoh dari for loop,\n",
        "\n",
        "\n",
        "berikut ini adalah Contoh program dengan Format penulisan perulangan **For** di java adalah sebagai berikut:\n",
        "``` javascript\n",
        "for( int hitungan = 0; hitungan <= 10; hitungan++ ){\n",
        "    // blok kode yang akan diulang\n",
        "}\n",
        "```\n",
        "**Penjelasan:**\n",
        "* variabel hitungan tugasnya untuk menyimpan hitungan pengulangan.\n",
        "* hitungan <= 10 artinya selama nilai hitungannya lebih kecil atau sama dengan 10, maka pengulangan akan terus dilakukan. Dengan kata lain, perualangan ini akan mengulang sebanyak 10 kali.\n",
        "* hitungan++ fungsinya untuk menambah satu (+1) nilai hitungan peda setiap pengulangan.\n",
        "*Blok kode For dimulai dengan tanda ‘{’ dan diakhiri dengan ‘}’.\n",
        "\n"
      ]
    },
    {
      "cell_type": "markdown",
      "metadata": {
        "id": "5pQv3YY9Wr4Z"
      },
      "source": [
        " ``` javascript\n",
        "        for(int i=0; i <= 10; i++){\n",
        "            System.out.print( i + \" \" );\n",
        "        }\n",
        "``` "
      ]
    },
    {
      "cell_type": "code",
      "metadata": {
        "id": "dBdUyqz3Wq8b"
      },
      "source": [
        ""
      ],
      "execution_count": null,
      "outputs": []
    },
    {
      "cell_type": "markdown",
      "metadata": {
        "id": "kbh1dLA1GPVk"
      },
      "source": [
        "##7.5 Pernyataan Continue\n",
        "**Continue** merupakan pernyataan jika suatu kondisi tertentu terjadi maka akan langsung dilanjutkan dengan iterasi selanjutnya dalam sebuah looping atau perulangan.\n",
        "\n",
        "Contoh 1\n",
        "``` javascript\n",
        "\n",
        "for(int a = 0;a <= 8;a++){\n",
        "    if(a == 4){\n",
        "    continue;\n",
        "}\n",
        "System.out.println(a);\n",
        "}\n",
        "```\n",
        "kata kunci **Continue** tidak akan menghentikan program saat dieksekusi misalnya menggunakan *for loops* tapi hanya akan mengskip atau melewatinya saja."
      ]
    },
    {
      "cell_type": "markdown",
      "metadata": {
        "id": "V6YizNTwGkZW"
      },
      "source": [
        "##7.6 Pernyataan Break\n",
        "Break adalah sebuah pernyataan yang di gunakan untuk melompat dari sebuah pernyataan looping, maupun kondisi if else dan switch case\n",
        "\n",
        "Contoh 1\n",
        "``` javascript\n",
        "for(int a = 0;a <= 8;a++){\n",
        "    if(a == 6){\n",
        "    break;\n",
        "}\n",
        "System.out.println(a);\n",
        "}\n",
        "``` \n",
        "\n",
        "**Break** pada umumnya digunakan dalam java untuk mengakhiri sebuah eksekusi dalam statement, dengan menggunakan kata kunci Break, pernyataan didalam statement akan langsung dipaksa berhenti, jadi kita harus membuat sebuah kondisi. kapan program akan berhenti.\n"
      ]
    },
    {
      "cell_type": "markdown",
      "metadata": {
        "id": "wql3SQ4-Gtm0"
      },
      "source": [
        "##7.7 Pernyataan Return\n",
        " **Return** merupakan salah satu keyword yang digunakan untuk menyelesaikan eksekusi suatu metode dan dapat digunakan untuk mengembalikan nilai dari suatu metode\n",
        "``` javascript\n",
        "int a = 0;\n",
        "while(a <= 10){\n",
        "    if(a == 5){\n",
        "              return;\n",
        "        }   \n",
        "    System.out.println(\"Hasil \" + a);\n",
        "    a++;\n",
        "}\n",
        "```"
      ]
    },
    {
      "cell_type": "markdown",
      "metadata": {
        "id": "1BF-A0oPrBL_"
      },
      "source": [
        "## **Tugas VII**\n",
        "\n",
        "Buat sebuah program yang mencetak nama Anda selama seratus kali. Buat tiga versi program ini menggunakan while loop, do while dan for-loop.\n",
        "\n",
        "```\n"
      ]
    },
    {
      "cell_type": "code",
      "metadata": {
        "id": "qnnQqrF05px3",
        "colab": {
          "base_uri": "https://localhost:8080/"
        },
        "outputId": "5c8c7098-ebb8-46da-c5d5-a8ef78ea5512"
      },
      "source": [
        "int a = 1;\n",
        "while(a <= 100){\n",
        "   \n",
        "    System.out.println( \"ANANG HIDAYAT KE- \" + a );\n",
        "    a++;\n",
        "}"
      ],
      "execution_count": null,
      "outputs": [
        {
          "output_type": "stream",
          "name": "stdout",
          "text": [
            "ANANG HIDAYAT KE- 1\n",
            "ANANG HIDAYAT KE- 2\n",
            "ANANG HIDAYAT KE- 3\n",
            "ANANG HIDAYAT KE- 4\n",
            "ANANG HIDAYAT KE- 5\n",
            "ANANG HIDAYAT KE- 6\n",
            "ANANG HIDAYAT KE- 7\n",
            "ANANG HIDAYAT KE- 8\n",
            "ANANG HIDAYAT KE- 9\n",
            "ANANG HIDAYAT KE- 10\n",
            "ANANG HIDAYAT KE- 11\n",
            "ANANG HIDAYAT KE- 12\n",
            "ANANG HIDAYAT KE- 13\n",
            "ANANG HIDAYAT KE- 14\n",
            "ANANG HIDAYAT KE- 15\n",
            "ANANG HIDAYAT KE- 16\n",
            "ANANG HIDAYAT KE- 17\n",
            "ANANG HIDAYAT KE- 18\n",
            "ANANG HIDAYAT KE- 19\n",
            "ANANG HIDAYAT KE- 20\n",
            "ANANG HIDAYAT KE- 21\n",
            "ANANG HIDAYAT KE- 22\n",
            "ANANG HIDAYAT KE- 23\n",
            "ANANG HIDAYAT KE- 24\n",
            "ANANG HIDAYAT KE- 25\n",
            "ANANG HIDAYAT KE- 26\n",
            "ANANG HIDAYAT KE- 27\n",
            "ANANG HIDAYAT KE- 28\n",
            "ANANG HIDAYAT KE- 29\n",
            "ANANG HIDAYAT KE- 30\n",
            "ANANG HIDAYAT KE- 31\n",
            "ANANG HIDAYAT KE- 32\n",
            "ANANG HIDAYAT KE- 33\n",
            "ANANG HIDAYAT KE- 34\n",
            "ANANG HIDAYAT KE- 35\n",
            "ANANG HIDAYAT KE- 36\n",
            "ANANG HIDAYAT KE- 37\n",
            "ANANG HIDAYAT KE- 38\n",
            "ANANG HIDAYAT KE- 39\n",
            "ANANG HIDAYAT KE- 40\n",
            "ANANG HIDAYAT KE- 41\n",
            "ANANG HIDAYAT KE- 42\n",
            "ANANG HIDAYAT KE- 43\n",
            "ANANG HIDAYAT KE- 44\n",
            "ANANG HIDAYAT KE- 45\n",
            "ANANG HIDAYAT KE- 46\n",
            "ANANG HIDAYAT KE- 47\n",
            "ANANG HIDAYAT KE- 48\n",
            "ANANG HIDAYAT KE- 49\n",
            "ANANG HIDAYAT KE- 50\n",
            "ANANG HIDAYAT KE- 51\n",
            "ANANG HIDAYAT KE- 52\n",
            "ANANG HIDAYAT KE- 53\n",
            "ANANG HIDAYAT KE- 54\n",
            "ANANG HIDAYAT KE- 55\n",
            "ANANG HIDAYAT KE- 56\n",
            "ANANG HIDAYAT KE- 57\n",
            "ANANG HIDAYAT KE- 58\n",
            "ANANG HIDAYAT KE- 59\n",
            "ANANG HIDAYAT KE- 60\n",
            "ANANG HIDAYAT KE- 61\n",
            "ANANG HIDAYAT KE- 62\n",
            "ANANG HIDAYAT KE- 63\n",
            "ANANG HIDAYAT KE- 64\n",
            "ANANG HIDAYAT KE- 65\n",
            "ANANG HIDAYAT KE- 66\n",
            "ANANG HIDAYAT KE- 67\n",
            "ANANG HIDAYAT KE- 68\n",
            "ANANG HIDAYAT KE- 69\n",
            "ANANG HIDAYAT KE- 70\n",
            "ANANG HIDAYAT KE- 71\n",
            "ANANG HIDAYAT KE- 72\n",
            "ANANG HIDAYAT KE- 73\n",
            "ANANG HIDAYAT KE- 74\n",
            "ANANG HIDAYAT KE- 75\n",
            "ANANG HIDAYAT KE- 76\n",
            "ANANG HIDAYAT KE- 77\n",
            "ANANG HIDAYAT KE- 78\n",
            "ANANG HIDAYAT KE- 79\n",
            "ANANG HIDAYAT KE- 80\n",
            "ANANG HIDAYAT KE- 81\n",
            "ANANG HIDAYAT KE- 82\n",
            "ANANG HIDAYAT KE- 83\n",
            "ANANG HIDAYAT KE- 84\n",
            "ANANG HIDAYAT KE- 85\n",
            "ANANG HIDAYAT KE- 86\n",
            "ANANG HIDAYAT KE- 87\n",
            "ANANG HIDAYAT KE- 88\n",
            "ANANG HIDAYAT KE- 89\n",
            "ANANG HIDAYAT KE- 90\n",
            "ANANG HIDAYAT KE- 91\n",
            "ANANG HIDAYAT KE- 92\n",
            "ANANG HIDAYAT KE- 93\n",
            "ANANG HIDAYAT KE- 94\n",
            "ANANG HIDAYAT KE- 95\n",
            "ANANG HIDAYAT KE- 96\n",
            "ANANG HIDAYAT KE- 97\n",
            "ANANG HIDAYAT KE- 98\n",
            "ANANG HIDAYAT KE- 99\n",
            "ANANG HIDAYAT KE- 100\n"
          ]
        }
      ]
    },
    {
      "cell_type": "code",
      "metadata": {
        "id": "KVjwSfMlbEdb",
        "colab": {
          "base_uri": "https://localhost:8080/"
        },
        "outputId": "aa4884af-6a7f-4bbb-ce65-125b9162ac00"
      },
      "source": [
        "int a = 1;\n",
        "    do {\n",
        "        System.out.println(a + \" Anang Hidayat\");\n",
        "        a++;\n",
        "       } while ( a <= 100);"
      ],
      "execution_count": null,
      "outputs": [
        {
          "output_type": "stream",
          "name": "stdout",
          "text": [
            "1 Anang Hidayat\n",
            "2 Anang Hidayat\n",
            "3 Anang Hidayat\n",
            "4 Anang Hidayat\n",
            "5 Anang Hidayat\n",
            "6 Anang Hidayat\n",
            "7 Anang Hidayat\n",
            "8 Anang Hidayat\n",
            "9 Anang Hidayat\n",
            "10 Anang Hidayat\n",
            "11 Anang Hidayat\n",
            "12 Anang Hidayat\n",
            "13 Anang Hidayat\n",
            "14 Anang Hidayat\n",
            "15 Anang Hidayat\n",
            "16 Anang Hidayat\n",
            "17 Anang Hidayat\n",
            "18 Anang Hidayat\n",
            "19 Anang Hidayat\n",
            "20 Anang Hidayat\n",
            "21 Anang Hidayat\n",
            "22 Anang Hidayat\n",
            "23 Anang Hidayat\n",
            "24 Anang Hidayat\n",
            "25 Anang Hidayat\n",
            "26 Anang Hidayat\n",
            "27 Anang Hidayat\n",
            "28 Anang Hidayat\n",
            "29 Anang Hidayat\n",
            "30 Anang Hidayat\n",
            "31 Anang Hidayat\n",
            "32 Anang Hidayat\n",
            "33 Anang Hidayat\n",
            "34 Anang Hidayat\n",
            "35 Anang Hidayat\n",
            "36 Anang Hidayat\n",
            "37 Anang Hidayat\n",
            "38 Anang Hidayat\n",
            "39 Anang Hidayat\n",
            "40 Anang Hidayat\n",
            "41 Anang Hidayat\n",
            "42 Anang Hidayat\n",
            "43 Anang Hidayat\n",
            "44 Anang Hidayat\n",
            "45 Anang Hidayat\n",
            "46 Anang Hidayat\n",
            "47 Anang Hidayat\n",
            "48 Anang Hidayat\n",
            "49 Anang Hidayat\n",
            "50 Anang Hidayat\n",
            "51 Anang Hidayat\n",
            "52 Anang Hidayat\n",
            "53 Anang Hidayat\n",
            "54 Anang Hidayat\n",
            "55 Anang Hidayat\n",
            "56 Anang Hidayat\n",
            "57 Anang Hidayat\n",
            "58 Anang Hidayat\n",
            "59 Anang Hidayat\n",
            "60 Anang Hidayat\n",
            "61 Anang Hidayat\n",
            "62 Anang Hidayat\n",
            "63 Anang Hidayat\n",
            "64 Anang Hidayat\n",
            "65 Anang Hidayat\n",
            "66 Anang Hidayat\n",
            "67 Anang Hidayat\n",
            "68 Anang Hidayat\n",
            "69 Anang Hidayat\n",
            "70 Anang Hidayat\n",
            "71 Anang Hidayat\n",
            "72 Anang Hidayat\n",
            "73 Anang Hidayat\n",
            "74 Anang Hidayat\n",
            "75 Anang Hidayat\n",
            "76 Anang Hidayat\n",
            "77 Anang Hidayat\n",
            "78 Anang Hidayat\n",
            "79 Anang Hidayat\n",
            "80 Anang Hidayat\n",
            "81 Anang Hidayat\n",
            "82 Anang Hidayat\n",
            "83 Anang Hidayat\n",
            "84 Anang Hidayat\n",
            "85 Anang Hidayat\n",
            "86 Anang Hidayat\n",
            "87 Anang Hidayat\n",
            "88 Anang Hidayat\n",
            "89 Anang Hidayat\n",
            "90 Anang Hidayat\n",
            "91 Anang Hidayat\n",
            "92 Anang Hidayat\n",
            "93 Anang Hidayat\n",
            "94 Anang Hidayat\n",
            "95 Anang Hidayat\n",
            "96 Anang Hidayat\n",
            "97 Anang Hidayat\n",
            "98 Anang Hidayat\n",
            "99 Anang Hidayat\n",
            "100 Anang Hidayat\n"
          ]
        }
      ]
    },
    {
      "cell_type": "code",
      "metadata": {
        "id": "TTx4wvnnbE5P",
        "colab": {
          "base_uri": "https://localhost:8080/"
        },
        "outputId": "1672d534-21ef-46ec-ca09-83ffd15b45f1"
      },
      "source": [
        "int a = 1;\n",
        " for(int a = 1; a <= 100; a++){\n",
        "   System.out.print( a + \" ANANG HIDAYAT \" );\n",
        " }"
      ],
      "execution_count": null,
      "outputs": [
        {
          "output_type": "stream",
          "name": "stdout",
          "text": [
            "1 ANANG HIDAYAT 2 ANANG HIDAYAT 3 ANANG HIDAYAT 4 ANANG HIDAYAT 5 ANANG HIDAYAT 6 ANANG HIDAYAT 7 ANANG HIDAYAT 8 ANANG HIDAYAT 9 ANANG HIDAYAT 10 ANANG HIDAYAT 11 ANANG HIDAYAT 12 ANANG HIDAYAT 13 ANANG HIDAYAT 14 ANANG HIDAYAT 15 ANANG HIDAYAT 16 ANANG HIDAYAT 17 ANANG HIDAYAT 18 ANANG HIDAYAT 19 ANANG HIDAYAT 20 ANANG HIDAYAT 21 ANANG HIDAYAT 22 ANANG HIDAYAT 23 ANANG HIDAYAT 24 ANANG HIDAYAT 25 ANANG HIDAYAT 26 ANANG HIDAYAT 27 ANANG HIDAYAT 28 ANANG HIDAYAT 29 ANANG HIDAYAT 30 ANANG HIDAYAT 31 ANANG HIDAYAT 32 ANANG HIDAYAT 33 ANANG HIDAYAT 34 ANANG HIDAYAT 35 ANANG HIDAYAT 36 ANANG HIDAYAT 37 ANANG HIDAYAT 38 ANANG HIDAYAT 39 ANANG HIDAYAT 40 ANANG HIDAYAT 41 ANANG HIDAYAT 42 ANANG HIDAYAT 43 ANANG HIDAYAT 44 ANANG HIDAYAT 45 ANANG HIDAYAT 46 ANANG HIDAYAT 47 ANANG HIDAYAT 48 ANANG HIDAYAT 49 ANANG HIDAYAT 50 ANANG HIDAYAT 51 ANANG HIDAYAT 52 ANANG HIDAYAT 53 ANANG HIDAYAT 54 ANANG HIDAYAT 55 ANANG HIDAYAT 56 ANANG HIDAYAT 57 ANANG HIDAYAT 58 ANANG HIDAYAT 59 ANANG HIDAYAT 60 ANANG HIDAYAT 61 ANANG HIDAYAT 62 ANANG HIDAYAT 63 ANANG HIDAYAT 64 ANANG HIDAYAT 65 ANANG HIDAYAT 66 ANANG HIDAYAT 67 ANANG HIDAYAT 68 ANANG HIDAYAT 69 ANANG HIDAYAT 70 ANANG HIDAYAT 71 ANANG HIDAYAT 72 ANANG HIDAYAT 73 ANANG HIDAYAT 74 ANANG HIDAYAT 75 ANANG HIDAYAT 76 ANANG HIDAYAT 77 ANANG HIDAYAT 78 ANANG HIDAYAT 79 ANANG HIDAYAT 80 ANANG HIDAYAT 81 ANANG HIDAYAT 82 ANANG HIDAYAT 83 ANANG HIDAYAT 84 ANANG HIDAYAT 85 ANANG HIDAYAT 86 ANANG HIDAYAT 87 ANANG HIDAYAT 88 ANANG HIDAYAT 89 ANANG HIDAYAT 90 ANANG HIDAYAT 91 ANANG HIDAYAT 92 ANANG HIDAYAT 93 ANANG HIDAYAT 94 ANANG HIDAYAT 95 ANANG HIDAYAT 96 ANANG HIDAYAT 97 ANANG HIDAYAT 98 ANANG HIDAYAT 99 ANANG HIDAYAT 100 ANANG HIDAYAT "
          ]
        }
      ]
    },
    {
      "cell_type": "markdown",
      "metadata": {
        "id": "zT6nxQWwvlLR"
      },
      "source": [
        "## Soal UTS"
      ]
    },
    {
      "cell_type": "markdown",
      "metadata": {
        "id": "oQcUp680vy42"
      },
      "source": [
        "-- Tidak Ada Soal-"
      ]
    }
  ]
}